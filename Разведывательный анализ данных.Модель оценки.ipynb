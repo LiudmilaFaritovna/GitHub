{
 "cells": [
  {
   "cell_type": "markdown",
   "metadata": {},
   "source": [
    "\n",
    "Суть проекта — отследить влияние условий жизни учащихся в возрасте от 15 до 22 лет на их успеваемость по математике, чтобы на\\ ранней стадии выявлять студентов, находящихся в группе риска.\n",
    "\n",
    "Для этого нужно построить модель, которая предсказывала бы результаты госэкзамена по математике для каждого ученика школы.\n",
    "\n",
    "переменные, которые содержит датасет:\\\n",
    "1 school — аббревиатура школы, в которой учится ученик\\\n",
    "2 sex — пол ученика ('F' - женский, 'M' - мужской\\\n",
    "3 age — возраст ученика (от 15 до 22)\\\n",
    "4 address — тип адреса ученика ('U' - городской, 'R' - за городом)\\\n",
    "5 famsize — размер семьи('LE3' <= 3, 'GT3' >3)\\\n",
    "6 Pstatus — статус совместного жилья родителей ('T' - живут вместе 'A' - раздельно)\\\n",
    "7 Medu — образование матери (0 - нет, 1 - 4 класса, 2 - 5-9 классы, 3 - среднее специальное или 11 классов, 4 - высшее)\\\n",
    "8 Fedu — образование отца (0 - нет, 1 - 4 класса, 2 - 5-9 классы, 3 - среднее специальное или 11 классов, 4 - высшее)\\\n",
    "9 Mjob — работа матери ('teacher' - учитель, 'health' - сфера здравоохранения, 'services' - гос служба, 'at_home' - не\\ работает, 'other' - другое)\\\n",
    "10 Fjob — работа отца ('teacher' - учитель, 'health' - сфера здравоохранения, 'services' - гос служба, 'at_home'- не работает,\\\n",
    "'other' - другое)\\\n",
    "11 reason — причина выбора школы ('home' - близость к дому, 'reputation' - репутация школы, 'course' - образовательная\\ программа, 'other' - другое)\\\n",
    "12 guardian — опекун ('mother' - мать, 'father' - отец, 'other' - другое)\\\n",
    "13 traveltime — время в пути до школы (1 - <15 мин., 2 - 15-30 мин., 3 - 30-60 мин., 4 - >60 мин.)\\\n",
    "14 studytime — время на учёбу помимо школы в неделю (1 - <2 часов, 2 - 2-5 часов, 3 - 5-10 часов, 4 - >10 часов)\\\n",
    "15 failures — количество внеучебных неудач (n, если 1<=n<3, иначе 0)\\\n",
    "16 schoolsup — дополнительная образовательная поддержка (yes или no\\\n",
    "17 famsup — семейная образовательная поддержка (yes или no)\\\n",
    "18 paid — дополнительные платные занятия по математике (yes или no)\\\n",
    "19 activities — дополнительные внеучебные занятия (yes или no)\\\n",
    "20 nursery — посещал детский сад (yes или no)\\\n",
    "21 higher — хочет получить высшее образование (yes или no)\\\n",
    "22 internet — наличие интернета дома (yes или no)\\\n",
    "23 romantic — в романтических отношениях (yes или no)\\\n",
    "24 famrel — семейные отношения (от 1 - очень плохо до 5 - очень хорошо)\\\n",
    "25 freetime — свободное время после школы (от 1 - очень мало до 5 - очень мого)\\\n",
    "26 goout — проведение времени с друзьями (от 1 - очень мало до 5 - очень много)\\\n",
    "27 health — текущее состояние здоровья (от 1 - очень плохо до 5 - очень хорошо)\\\n",
    "28 absences — количество пропущенных занятий\\\n",
    "29 score — баллы по госэкзамену по математике"
   ]
  },
  {
   "cell_type": "code",
   "execution_count": 1,
   "metadata": {},
   "outputs": [],
   "source": [
    "import pandas as pd\n",
    "import matplotlib.pyplot as plt\n",
    "import seaborn as sns\n",
    "from itertools import combinations\n",
    "from scipy.stats import ttest_ind\n",
    "import numpy as np\n",
    "from sklearn.linear_model import LinearRegression\n",
    "\n",
    "pd.set_option('display.max_rows', 50) # показывать больше строк\n",
    "pd.set_option('display.max_columns', 50) # показывать больше колонок\n",
    "\n",
    "df = pd.read_csv('stud_math.xls')"
   ]
  },
  {
   "cell_type": "code",
   "execution_count": 2,
   "metadata": {
    "scrolled": true
   },
   "outputs": [
    {
     "data": {
      "text/html": [
       "<div>\n",
       "<style scoped>\n",
       "    .dataframe tbody tr th:only-of-type {\n",
       "        vertical-align: middle;\n",
       "    }\n",
       "\n",
       "    .dataframe tbody tr th {\n",
       "        vertical-align: top;\n",
       "    }\n",
       "\n",
       "    .dataframe thead th {\n",
       "        text-align: right;\n",
       "    }\n",
       "</style>\n",
       "<table border=\"1\" class=\"dataframe\">\n",
       "  <thead>\n",
       "    <tr style=\"text-align: right;\">\n",
       "      <th></th>\n",
       "      <th>school</th>\n",
       "      <th>sex</th>\n",
       "      <th>age</th>\n",
       "      <th>address</th>\n",
       "      <th>famsize</th>\n",
       "      <th>Pstatus</th>\n",
       "      <th>Medu</th>\n",
       "      <th>Fedu</th>\n",
       "      <th>Mjob</th>\n",
       "      <th>Fjob</th>\n",
       "      <th>reason</th>\n",
       "      <th>guardian</th>\n",
       "      <th>traveltime</th>\n",
       "      <th>studytime</th>\n",
       "      <th>failures</th>\n",
       "      <th>schoolsup</th>\n",
       "      <th>famsup</th>\n",
       "      <th>paid</th>\n",
       "      <th>activities</th>\n",
       "      <th>nursery</th>\n",
       "      <th>studytime, granular</th>\n",
       "      <th>higher</th>\n",
       "      <th>internet</th>\n",
       "      <th>romantic</th>\n",
       "      <th>famrel</th>\n",
       "      <th>freetime</th>\n",
       "      <th>goout</th>\n",
       "      <th>health</th>\n",
       "      <th>absences</th>\n",
       "      <th>score</th>\n",
       "    </tr>\n",
       "  </thead>\n",
       "  <tbody>\n",
       "    <tr>\n",
       "      <th>0</th>\n",
       "      <td>GP</td>\n",
       "      <td>F</td>\n",
       "      <td>18</td>\n",
       "      <td>U</td>\n",
       "      <td>NaN</td>\n",
       "      <td>A</td>\n",
       "      <td>4.0</td>\n",
       "      <td>4.0</td>\n",
       "      <td>at_home</td>\n",
       "      <td>teacher</td>\n",
       "      <td>course</td>\n",
       "      <td>mother</td>\n",
       "      <td>2.0</td>\n",
       "      <td>2.0</td>\n",
       "      <td>0.0</td>\n",
       "      <td>yes</td>\n",
       "      <td>no</td>\n",
       "      <td>no</td>\n",
       "      <td>no</td>\n",
       "      <td>yes</td>\n",
       "      <td>-6.0</td>\n",
       "      <td>yes</td>\n",
       "      <td>NaN</td>\n",
       "      <td>no</td>\n",
       "      <td>4.0</td>\n",
       "      <td>3.0</td>\n",
       "      <td>4.0</td>\n",
       "      <td>3.0</td>\n",
       "      <td>6.0</td>\n",
       "      <td>30.0</td>\n",
       "    </tr>\n",
       "    <tr>\n",
       "      <th>1</th>\n",
       "      <td>GP</td>\n",
       "      <td>F</td>\n",
       "      <td>17</td>\n",
       "      <td>U</td>\n",
       "      <td>GT3</td>\n",
       "      <td>NaN</td>\n",
       "      <td>1.0</td>\n",
       "      <td>1.0</td>\n",
       "      <td>at_home</td>\n",
       "      <td>other</td>\n",
       "      <td>course</td>\n",
       "      <td>father</td>\n",
       "      <td>1.0</td>\n",
       "      <td>2.0</td>\n",
       "      <td>0.0</td>\n",
       "      <td>no</td>\n",
       "      <td>yes</td>\n",
       "      <td>no</td>\n",
       "      <td>no</td>\n",
       "      <td>no</td>\n",
       "      <td>-6.0</td>\n",
       "      <td>yes</td>\n",
       "      <td>yes</td>\n",
       "      <td>no</td>\n",
       "      <td>5.0</td>\n",
       "      <td>3.0</td>\n",
       "      <td>3.0</td>\n",
       "      <td>3.0</td>\n",
       "      <td>4.0</td>\n",
       "      <td>30.0</td>\n",
       "    </tr>\n",
       "    <tr>\n",
       "      <th>2</th>\n",
       "      <td>GP</td>\n",
       "      <td>F</td>\n",
       "      <td>15</td>\n",
       "      <td>U</td>\n",
       "      <td>LE3</td>\n",
       "      <td>T</td>\n",
       "      <td>1.0</td>\n",
       "      <td>1.0</td>\n",
       "      <td>at_home</td>\n",
       "      <td>other</td>\n",
       "      <td>other</td>\n",
       "      <td>mother</td>\n",
       "      <td>1.0</td>\n",
       "      <td>2.0</td>\n",
       "      <td>3.0</td>\n",
       "      <td>yes</td>\n",
       "      <td>no</td>\n",
       "      <td>NaN</td>\n",
       "      <td>no</td>\n",
       "      <td>yes</td>\n",
       "      <td>-6.0</td>\n",
       "      <td>yes</td>\n",
       "      <td>yes</td>\n",
       "      <td>NaN</td>\n",
       "      <td>4.0</td>\n",
       "      <td>3.0</td>\n",
       "      <td>2.0</td>\n",
       "      <td>3.0</td>\n",
       "      <td>10.0</td>\n",
       "      <td>50.0</td>\n",
       "    </tr>\n",
       "    <tr>\n",
       "      <th>3</th>\n",
       "      <td>GP</td>\n",
       "      <td>F</td>\n",
       "      <td>15</td>\n",
       "      <td>U</td>\n",
       "      <td>GT3</td>\n",
       "      <td>T</td>\n",
       "      <td>4.0</td>\n",
       "      <td>2.0</td>\n",
       "      <td>health</td>\n",
       "      <td>NaN</td>\n",
       "      <td>home</td>\n",
       "      <td>mother</td>\n",
       "      <td>1.0</td>\n",
       "      <td>3.0</td>\n",
       "      <td>0.0</td>\n",
       "      <td>no</td>\n",
       "      <td>yes</td>\n",
       "      <td>yes</td>\n",
       "      <td>yes</td>\n",
       "      <td>yes</td>\n",
       "      <td>-9.0</td>\n",
       "      <td>yes</td>\n",
       "      <td>yes</td>\n",
       "      <td>yes</td>\n",
       "      <td>3.0</td>\n",
       "      <td>2.0</td>\n",
       "      <td>2.0</td>\n",
       "      <td>5.0</td>\n",
       "      <td>2.0</td>\n",
       "      <td>75.0</td>\n",
       "    </tr>\n",
       "    <tr>\n",
       "      <th>4</th>\n",
       "      <td>GP</td>\n",
       "      <td>F</td>\n",
       "      <td>16</td>\n",
       "      <td>U</td>\n",
       "      <td>GT3</td>\n",
       "      <td>T</td>\n",
       "      <td>3.0</td>\n",
       "      <td>3.0</td>\n",
       "      <td>other</td>\n",
       "      <td>other</td>\n",
       "      <td>home</td>\n",
       "      <td>father</td>\n",
       "      <td>1.0</td>\n",
       "      <td>2.0</td>\n",
       "      <td>0.0</td>\n",
       "      <td>no</td>\n",
       "      <td>yes</td>\n",
       "      <td>yes</td>\n",
       "      <td>no</td>\n",
       "      <td>yes</td>\n",
       "      <td>-6.0</td>\n",
       "      <td>yes</td>\n",
       "      <td>no</td>\n",
       "      <td>no</td>\n",
       "      <td>4.0</td>\n",
       "      <td>3.0</td>\n",
       "      <td>2.0</td>\n",
       "      <td>5.0</td>\n",
       "      <td>4.0</td>\n",
       "      <td>50.0</td>\n",
       "    </tr>\n",
       "    <tr>\n",
       "      <th>5</th>\n",
       "      <td>GP</td>\n",
       "      <td>M</td>\n",
       "      <td>16</td>\n",
       "      <td>U</td>\n",
       "      <td>LE3</td>\n",
       "      <td>T</td>\n",
       "      <td>4.0</td>\n",
       "      <td>3.0</td>\n",
       "      <td>services</td>\n",
       "      <td>other</td>\n",
       "      <td>reputation</td>\n",
       "      <td>mother</td>\n",
       "      <td>1.0</td>\n",
       "      <td>2.0</td>\n",
       "      <td>0.0</td>\n",
       "      <td>no</td>\n",
       "      <td>yes</td>\n",
       "      <td>yes</td>\n",
       "      <td>yes</td>\n",
       "      <td>yes</td>\n",
       "      <td>-6.0</td>\n",
       "      <td>yes</td>\n",
       "      <td>yes</td>\n",
       "      <td>no</td>\n",
       "      <td>5.0</td>\n",
       "      <td>4.0</td>\n",
       "      <td>2.0</td>\n",
       "      <td>5.0</td>\n",
       "      <td>10.0</td>\n",
       "      <td>75.0</td>\n",
       "    </tr>\n",
       "    <tr>\n",
       "      <th>6</th>\n",
       "      <td>GP</td>\n",
       "      <td>M</td>\n",
       "      <td>16</td>\n",
       "      <td>NaN</td>\n",
       "      <td>LE3</td>\n",
       "      <td>T</td>\n",
       "      <td>2.0</td>\n",
       "      <td>2.0</td>\n",
       "      <td>other</td>\n",
       "      <td>other</td>\n",
       "      <td>home</td>\n",
       "      <td>mother</td>\n",
       "      <td>1.0</td>\n",
       "      <td>2.0</td>\n",
       "      <td>0.0</td>\n",
       "      <td>no</td>\n",
       "      <td>no</td>\n",
       "      <td>no</td>\n",
       "      <td>no</td>\n",
       "      <td>yes</td>\n",
       "      <td>-6.0</td>\n",
       "      <td>yes</td>\n",
       "      <td>yes</td>\n",
       "      <td>no</td>\n",
       "      <td>4.0</td>\n",
       "      <td>4.0</td>\n",
       "      <td>4.0</td>\n",
       "      <td>3.0</td>\n",
       "      <td>0.0</td>\n",
       "      <td>55.0</td>\n",
       "    </tr>\n",
       "    <tr>\n",
       "      <th>7</th>\n",
       "      <td>GP</td>\n",
       "      <td>F</td>\n",
       "      <td>17</td>\n",
       "      <td>U</td>\n",
       "      <td>GT3</td>\n",
       "      <td>A</td>\n",
       "      <td>4.0</td>\n",
       "      <td>4.0</td>\n",
       "      <td>other</td>\n",
       "      <td>teacher</td>\n",
       "      <td>home</td>\n",
       "      <td>mother</td>\n",
       "      <td>2.0</td>\n",
       "      <td>2.0</td>\n",
       "      <td>0.0</td>\n",
       "      <td>yes</td>\n",
       "      <td>yes</td>\n",
       "      <td>no</td>\n",
       "      <td>no</td>\n",
       "      <td>yes</td>\n",
       "      <td>-6.0</td>\n",
       "      <td>yes</td>\n",
       "      <td>no</td>\n",
       "      <td>no</td>\n",
       "      <td>4.0</td>\n",
       "      <td>1.0</td>\n",
       "      <td>4.0</td>\n",
       "      <td>1.0</td>\n",
       "      <td>6.0</td>\n",
       "      <td>30.0</td>\n",
       "    </tr>\n",
       "    <tr>\n",
       "      <th>8</th>\n",
       "      <td>GP</td>\n",
       "      <td>M</td>\n",
       "      <td>15</td>\n",
       "      <td>U</td>\n",
       "      <td>LE3</td>\n",
       "      <td>A</td>\n",
       "      <td>3.0</td>\n",
       "      <td>2.0</td>\n",
       "      <td>services</td>\n",
       "      <td>other</td>\n",
       "      <td>home</td>\n",
       "      <td>mother</td>\n",
       "      <td>1.0</td>\n",
       "      <td>2.0</td>\n",
       "      <td>0.0</td>\n",
       "      <td>no</td>\n",
       "      <td>yes</td>\n",
       "      <td>yes</td>\n",
       "      <td>no</td>\n",
       "      <td>yes</td>\n",
       "      <td>-6.0</td>\n",
       "      <td>yes</td>\n",
       "      <td>yes</td>\n",
       "      <td>no</td>\n",
       "      <td>NaN</td>\n",
       "      <td>2.0</td>\n",
       "      <td>2.0</td>\n",
       "      <td>1.0</td>\n",
       "      <td>0.0</td>\n",
       "      <td>95.0</td>\n",
       "    </tr>\n",
       "    <tr>\n",
       "      <th>9</th>\n",
       "      <td>GP</td>\n",
       "      <td>M</td>\n",
       "      <td>15</td>\n",
       "      <td>U</td>\n",
       "      <td>NaN</td>\n",
       "      <td>NaN</td>\n",
       "      <td>3.0</td>\n",
       "      <td>4.0</td>\n",
       "      <td>other</td>\n",
       "      <td>other</td>\n",
       "      <td>home</td>\n",
       "      <td>mother</td>\n",
       "      <td>1.0</td>\n",
       "      <td>2.0</td>\n",
       "      <td>0.0</td>\n",
       "      <td>no</td>\n",
       "      <td>yes</td>\n",
       "      <td>yes</td>\n",
       "      <td>yes</td>\n",
       "      <td>yes</td>\n",
       "      <td>-6.0</td>\n",
       "      <td>yes</td>\n",
       "      <td>yes</td>\n",
       "      <td>no</td>\n",
       "      <td>5.0</td>\n",
       "      <td>5.0</td>\n",
       "      <td>1.0</td>\n",
       "      <td>5.0</td>\n",
       "      <td>0.0</td>\n",
       "      <td>75.0</td>\n",
       "    </tr>\n",
       "  </tbody>\n",
       "</table>\n",
       "</div>"
      ],
      "text/plain": [
       "  school sex  age address famsize Pstatus  Medu  Fedu      Mjob     Fjob  \\\n",
       "0     GP   F   18       U     NaN       A   4.0   4.0   at_home  teacher   \n",
       "1     GP   F   17       U     GT3     NaN   1.0   1.0   at_home    other   \n",
       "2     GP   F   15       U     LE3       T   1.0   1.0   at_home    other   \n",
       "3     GP   F   15       U     GT3       T   4.0   2.0    health      NaN   \n",
       "4     GP   F   16       U     GT3       T   3.0   3.0     other    other   \n",
       "5     GP   M   16       U     LE3       T   4.0   3.0  services    other   \n",
       "6     GP   M   16     NaN     LE3       T   2.0   2.0     other    other   \n",
       "7     GP   F   17       U     GT3       A   4.0   4.0     other  teacher   \n",
       "8     GP   M   15       U     LE3       A   3.0   2.0  services    other   \n",
       "9     GP   M   15       U     NaN     NaN   3.0   4.0     other    other   \n",
       "\n",
       "       reason guardian  traveltime  studytime  failures schoolsup famsup paid  \\\n",
       "0      course   mother         2.0        2.0       0.0       yes     no   no   \n",
       "1      course   father         1.0        2.0       0.0        no    yes   no   \n",
       "2       other   mother         1.0        2.0       3.0       yes     no  NaN   \n",
       "3        home   mother         1.0        3.0       0.0        no    yes  yes   \n",
       "4        home   father         1.0        2.0       0.0        no    yes  yes   \n",
       "5  reputation   mother         1.0        2.0       0.0        no    yes  yes   \n",
       "6        home   mother         1.0        2.0       0.0        no     no   no   \n",
       "7        home   mother         2.0        2.0       0.0       yes    yes   no   \n",
       "8        home   mother         1.0        2.0       0.0        no    yes  yes   \n",
       "9        home   mother         1.0        2.0       0.0        no    yes  yes   \n",
       "\n",
       "  activities nursery  studytime, granular higher internet romantic  famrel  \\\n",
       "0         no     yes                 -6.0    yes      NaN       no     4.0   \n",
       "1         no      no                 -6.0    yes      yes       no     5.0   \n",
       "2         no     yes                 -6.0    yes      yes      NaN     4.0   \n",
       "3        yes     yes                 -9.0    yes      yes      yes     3.0   \n",
       "4         no     yes                 -6.0    yes       no       no     4.0   \n",
       "5        yes     yes                 -6.0    yes      yes       no     5.0   \n",
       "6         no     yes                 -6.0    yes      yes       no     4.0   \n",
       "7         no     yes                 -6.0    yes       no       no     4.0   \n",
       "8         no     yes                 -6.0    yes      yes       no     NaN   \n",
       "9        yes     yes                 -6.0    yes      yes       no     5.0   \n",
       "\n",
       "   freetime  goout  health  absences  score  \n",
       "0       3.0    4.0     3.0       6.0   30.0  \n",
       "1       3.0    3.0     3.0       4.0   30.0  \n",
       "2       3.0    2.0     3.0      10.0   50.0  \n",
       "3       2.0    2.0     5.0       2.0   75.0  \n",
       "4       3.0    2.0     5.0       4.0   50.0  \n",
       "5       4.0    2.0     5.0      10.0   75.0  \n",
       "6       4.0    4.0     3.0       0.0   55.0  \n",
       "7       1.0    4.0     1.0       6.0   30.0  \n",
       "8       2.0    2.0     1.0       0.0   95.0  \n",
       "9       5.0    1.0     5.0       0.0   75.0  "
      ]
     },
     "metadata": {},
     "output_type": "display_data"
    },
    {
     "name": "stdout",
     "output_type": "stream",
     "text": [
      "<class 'pandas.core.frame.DataFrame'>\n",
      "RangeIndex: 395 entries, 0 to 394\n",
      "Data columns (total 30 columns):\n",
      " #   Column               Non-Null Count  Dtype  \n",
      "---  ------               --------------  -----  \n",
      " 0   school               395 non-null    object \n",
      " 1   sex                  395 non-null    object \n",
      " 2   age                  395 non-null    int64  \n",
      " 3   address              378 non-null    object \n",
      " 4   famsize              368 non-null    object \n",
      " 5   Pstatus              350 non-null    object \n",
      " 6   Medu                 392 non-null    float64\n",
      " 7   Fedu                 371 non-null    float64\n",
      " 8   Mjob                 376 non-null    object \n",
      " 9   Fjob                 359 non-null    object \n",
      " 10  reason               378 non-null    object \n",
      " 11  guardian             364 non-null    object \n",
      " 12  traveltime           367 non-null    float64\n",
      " 13  studytime            388 non-null    float64\n",
      " 14  failures             373 non-null    float64\n",
      " 15  schoolsup            386 non-null    object \n",
      " 16  famsup               356 non-null    object \n",
      " 17  paid                 355 non-null    object \n",
      " 18  activities           381 non-null    object \n",
      " 19  nursery              379 non-null    object \n",
      " 20  studytime, granular  388 non-null    float64\n",
      " 21  higher               375 non-null    object \n",
      " 22  internet             361 non-null    object \n",
      " 23  romantic             364 non-null    object \n",
      " 24  famrel               368 non-null    float64\n",
      " 25  freetime             384 non-null    float64\n",
      " 26  goout                387 non-null    float64\n",
      " 27  health               380 non-null    float64\n",
      " 28  absences             383 non-null    float64\n",
      " 29  score                389 non-null    float64\n",
      "dtypes: float64(12), int64(1), object(17)\n",
      "memory usage: 92.7+ KB\n"
     ]
    }
   ],
   "source": [
    "# Предварительный анализ\n",
    "display(df.head(10))\n",
    "df.info() "
   ]
  },
  {
   "cell_type": "code",
   "execution_count": 3,
   "metadata": {},
   "outputs": [
    {
     "name": "stdout",
     "output_type": "stream",
     "text": [
      "(395, 30)\n"
     ]
    }
   ],
   "source": [
    "print(df.shape) # мы увидим информацию о размерности нашего датафрейма "
   ]
  },
  {
   "cell_type": "markdown",
   "metadata": {},
   "source": [
    "Наш датасет состоит из 395 строк, 30 столбцов\n",
    "При предварительном осмотре наших данных сразу видим наличие пропусков, и данные достаточно не чистые \n",
    "Из 30 признаков - 13 числового типа, и 17 нечислового. И 3 числовых признака-это возвраст/age; пропуски занятий/absences\n",
    "и наша независимая переменная-баллы по матетематике/score. \n",
    "Все остальные 27 признаков - категориальные и бинарные, к последнему отнесем временно столбец studytime_granular, о котором нет информации \n"
   ]
  },
  {
   "cell_type": "markdown",
   "metadata": {},
   "source": [
    "### Первичный анализ данных в столбцах. Часть I"
   ]
  },
  {
   "cell_type": "code",
   "execution_count": 4,
   "metadata": {},
   "outputs": [
    {
     "data": {
      "text/plain": [
       "Index(['school', 'sex', 'age', 'address', 'famsize', 'Pstatus', 'Medu', 'Fedu',\n",
       "       'Mjob', 'Fjob', 'reason', 'guardian', 'traveltime', 'studytime',\n",
       "       'failures', 'schoolsup', 'famsup', 'paid', 'activities', 'nursery',\n",
       "       'studytime, granular', 'higher', 'internet', 'romantic', 'famrel',\n",
       "       'freetime', 'goout', 'health', 'absences', 'score'],\n",
       "      dtype='object')"
      ]
     },
     "execution_count": 4,
     "metadata": {},
     "output_type": "execute_result"
    }
   ],
   "source": [
    "# Посмотрим название столбцов нашего датасета\n",
    "df.columns"
   ]
  },
  {
   "cell_type": "code",
   "execution_count": 5,
   "metadata": {},
   "outputs": [
    {
     "data": {
      "text/plain": [
       "Index(['school', 'sex', 'age', 'address', 'famsize', 'pstatus', 'medu', 'fedu',\n",
       "       'mjob', 'fjob', 'reason', 'guardian', 'traveltime', 'studytime',\n",
       "       'failures', 'schoolsup', 'famsup', 'paid', 'activities', 'nursery',\n",
       "       'studytime_granular', 'higher', 'internet', 'romantic', 'famrel',\n",
       "       'freetime', 'goout', 'health', 'absences', 'score'],\n",
       "      dtype='object')"
      ]
     },
     "execution_count": 5,
     "metadata": {},
     "output_type": "execute_result"
    }
   ],
   "source": [
    "# Для удобства переименуем столбцы\n",
    "# df.columns = [x.split()[0].lower() for x in df.columns]\n",
    "df.columns = [x.lower() for x in df.columns]\n",
    "#df.rename(str.lower, axis='columns')\n",
    "df.rename({'studytime, granular':'studytime_granular'},axis='columns', inplace=True)\n",
    "#df['studytime, granular'].set_axis(['studytime_granular'], axis = 1, inplace = True)\n",
    "df.columns"
   ]
  },
  {
   "cell_type": "code",
   "execution_count": 6,
   "metadata": {},
   "outputs": [
    {
     "data": {
      "text/html": [
       "<div>\n",
       "<style scoped>\n",
       "    .dataframe tbody tr th:only-of-type {\n",
       "        vertical-align: middle;\n",
       "    }\n",
       "\n",
       "    .dataframe tbody tr th {\n",
       "        vertical-align: top;\n",
       "    }\n",
       "\n",
       "    .dataframe thead th {\n",
       "        text-align: right;\n",
       "    }\n",
       "</style>\n",
       "<table border=\"1\" class=\"dataframe\">\n",
       "  <thead>\n",
       "    <tr style=\"text-align: right;\">\n",
       "      <th></th>\n",
       "      <th>school</th>\n",
       "      <th>sex</th>\n",
       "      <th>age</th>\n",
       "      <th>address</th>\n",
       "      <th>famsize</th>\n",
       "      <th>pstatus</th>\n",
       "      <th>medu</th>\n",
       "      <th>fedu</th>\n",
       "      <th>mjob</th>\n",
       "      <th>fjob</th>\n",
       "      <th>reason</th>\n",
       "      <th>guardian</th>\n",
       "      <th>traveltime</th>\n",
       "      <th>studytime</th>\n",
       "      <th>failures</th>\n",
       "      <th>schoolsup</th>\n",
       "      <th>famsup</th>\n",
       "      <th>paid</th>\n",
       "      <th>activities</th>\n",
       "      <th>nursery</th>\n",
       "      <th>studytime_granular</th>\n",
       "      <th>higher</th>\n",
       "      <th>internet</th>\n",
       "      <th>romantic</th>\n",
       "      <th>famrel</th>\n",
       "      <th>freetime</th>\n",
       "      <th>goout</th>\n",
       "      <th>health</th>\n",
       "      <th>absences</th>\n",
       "      <th>score</th>\n",
       "    </tr>\n",
       "  </thead>\n",
       "  <tbody>\n",
       "    <tr>\n",
       "      <th>count</th>\n",
       "      <td>395</td>\n",
       "      <td>395</td>\n",
       "      <td>395.000000</td>\n",
       "      <td>378</td>\n",
       "      <td>368</td>\n",
       "      <td>350</td>\n",
       "      <td>392.000000</td>\n",
       "      <td>371.000000</td>\n",
       "      <td>376</td>\n",
       "      <td>359</td>\n",
       "      <td>378</td>\n",
       "      <td>364</td>\n",
       "      <td>367.000000</td>\n",
       "      <td>388.000000</td>\n",
       "      <td>373.000000</td>\n",
       "      <td>386</td>\n",
       "      <td>356</td>\n",
       "      <td>355</td>\n",
       "      <td>381</td>\n",
       "      <td>379</td>\n",
       "      <td>388.000000</td>\n",
       "      <td>375</td>\n",
       "      <td>361</td>\n",
       "      <td>364</td>\n",
       "      <td>368.000000</td>\n",
       "      <td>384.000000</td>\n",
       "      <td>387.000000</td>\n",
       "      <td>380.000000</td>\n",
       "      <td>383.000000</td>\n",
       "      <td>389.000000</td>\n",
       "    </tr>\n",
       "    <tr>\n",
       "      <th>unique</th>\n",
       "      <td>2</td>\n",
       "      <td>2</td>\n",
       "      <td>NaN</td>\n",
       "      <td>2</td>\n",
       "      <td>2</td>\n",
       "      <td>2</td>\n",
       "      <td>NaN</td>\n",
       "      <td>NaN</td>\n",
       "      <td>5</td>\n",
       "      <td>5</td>\n",
       "      <td>4</td>\n",
       "      <td>3</td>\n",
       "      <td>NaN</td>\n",
       "      <td>NaN</td>\n",
       "      <td>NaN</td>\n",
       "      <td>2</td>\n",
       "      <td>2</td>\n",
       "      <td>2</td>\n",
       "      <td>2</td>\n",
       "      <td>2</td>\n",
       "      <td>NaN</td>\n",
       "      <td>2</td>\n",
       "      <td>2</td>\n",
       "      <td>2</td>\n",
       "      <td>NaN</td>\n",
       "      <td>NaN</td>\n",
       "      <td>NaN</td>\n",
       "      <td>NaN</td>\n",
       "      <td>NaN</td>\n",
       "      <td>NaN</td>\n",
       "    </tr>\n",
       "    <tr>\n",
       "      <th>top</th>\n",
       "      <td>GP</td>\n",
       "      <td>F</td>\n",
       "      <td>NaN</td>\n",
       "      <td>U</td>\n",
       "      <td>GT3</td>\n",
       "      <td>T</td>\n",
       "      <td>NaN</td>\n",
       "      <td>NaN</td>\n",
       "      <td>other</td>\n",
       "      <td>other</td>\n",
       "      <td>course</td>\n",
       "      <td>mother</td>\n",
       "      <td>NaN</td>\n",
       "      <td>NaN</td>\n",
       "      <td>NaN</td>\n",
       "      <td>no</td>\n",
       "      <td>yes</td>\n",
       "      <td>no</td>\n",
       "      <td>yes</td>\n",
       "      <td>yes</td>\n",
       "      <td>NaN</td>\n",
       "      <td>yes</td>\n",
       "      <td>yes</td>\n",
       "      <td>no</td>\n",
       "      <td>NaN</td>\n",
       "      <td>NaN</td>\n",
       "      <td>NaN</td>\n",
       "      <td>NaN</td>\n",
       "      <td>NaN</td>\n",
       "      <td>NaN</td>\n",
       "    </tr>\n",
       "    <tr>\n",
       "      <th>freq</th>\n",
       "      <td>349</td>\n",
       "      <td>208</td>\n",
       "      <td>NaN</td>\n",
       "      <td>295</td>\n",
       "      <td>261</td>\n",
       "      <td>314</td>\n",
       "      <td>NaN</td>\n",
       "      <td>NaN</td>\n",
       "      <td>133</td>\n",
       "      <td>197</td>\n",
       "      <td>137</td>\n",
       "      <td>250</td>\n",
       "      <td>NaN</td>\n",
       "      <td>NaN</td>\n",
       "      <td>NaN</td>\n",
       "      <td>335</td>\n",
       "      <td>219</td>\n",
       "      <td>200</td>\n",
       "      <td>195</td>\n",
       "      <td>300</td>\n",
       "      <td>NaN</td>\n",
       "      <td>356</td>\n",
       "      <td>305</td>\n",
       "      <td>240</td>\n",
       "      <td>NaN</td>\n",
       "      <td>NaN</td>\n",
       "      <td>NaN</td>\n",
       "      <td>NaN</td>\n",
       "      <td>NaN</td>\n",
       "      <td>NaN</td>\n",
       "    </tr>\n",
       "    <tr>\n",
       "      <th>mean</th>\n",
       "      <td>NaN</td>\n",
       "      <td>NaN</td>\n",
       "      <td>16.696203</td>\n",
       "      <td>NaN</td>\n",
       "      <td>NaN</td>\n",
       "      <td>NaN</td>\n",
       "      <td>2.750000</td>\n",
       "      <td>2.614555</td>\n",
       "      <td>NaN</td>\n",
       "      <td>NaN</td>\n",
       "      <td>NaN</td>\n",
       "      <td>NaN</td>\n",
       "      <td>1.438692</td>\n",
       "      <td>2.038660</td>\n",
       "      <td>0.337802</td>\n",
       "      <td>NaN</td>\n",
       "      <td>NaN</td>\n",
       "      <td>NaN</td>\n",
       "      <td>NaN</td>\n",
       "      <td>NaN</td>\n",
       "      <td>-6.115979</td>\n",
       "      <td>NaN</td>\n",
       "      <td>NaN</td>\n",
       "      <td>NaN</td>\n",
       "      <td>3.937500</td>\n",
       "      <td>3.231771</td>\n",
       "      <td>3.105943</td>\n",
       "      <td>3.531579</td>\n",
       "      <td>7.279373</td>\n",
       "      <td>52.262211</td>\n",
       "    </tr>\n",
       "    <tr>\n",
       "      <th>std</th>\n",
       "      <td>NaN</td>\n",
       "      <td>NaN</td>\n",
       "      <td>1.276043</td>\n",
       "      <td>NaN</td>\n",
       "      <td>NaN</td>\n",
       "      <td>NaN</td>\n",
       "      <td>1.098127</td>\n",
       "      <td>2.228732</td>\n",
       "      <td>NaN</td>\n",
       "      <td>NaN</td>\n",
       "      <td>NaN</td>\n",
       "      <td>NaN</td>\n",
       "      <td>0.694181</td>\n",
       "      <td>0.842078</td>\n",
       "      <td>0.743135</td>\n",
       "      <td>NaN</td>\n",
       "      <td>NaN</td>\n",
       "      <td>NaN</td>\n",
       "      <td>NaN</td>\n",
       "      <td>NaN</td>\n",
       "      <td>2.526235</td>\n",
       "      <td>NaN</td>\n",
       "      <td>NaN</td>\n",
       "      <td>NaN</td>\n",
       "      <td>0.927277</td>\n",
       "      <td>0.993940</td>\n",
       "      <td>1.115896</td>\n",
       "      <td>1.396019</td>\n",
       "      <td>23.465197</td>\n",
       "      <td>22.919022</td>\n",
       "    </tr>\n",
       "    <tr>\n",
       "      <th>min</th>\n",
       "      <td>NaN</td>\n",
       "      <td>NaN</td>\n",
       "      <td>15.000000</td>\n",
       "      <td>NaN</td>\n",
       "      <td>NaN</td>\n",
       "      <td>NaN</td>\n",
       "      <td>0.000000</td>\n",
       "      <td>0.000000</td>\n",
       "      <td>NaN</td>\n",
       "      <td>NaN</td>\n",
       "      <td>NaN</td>\n",
       "      <td>NaN</td>\n",
       "      <td>1.000000</td>\n",
       "      <td>1.000000</td>\n",
       "      <td>0.000000</td>\n",
       "      <td>NaN</td>\n",
       "      <td>NaN</td>\n",
       "      <td>NaN</td>\n",
       "      <td>NaN</td>\n",
       "      <td>NaN</td>\n",
       "      <td>-12.000000</td>\n",
       "      <td>NaN</td>\n",
       "      <td>NaN</td>\n",
       "      <td>NaN</td>\n",
       "      <td>-1.000000</td>\n",
       "      <td>1.000000</td>\n",
       "      <td>1.000000</td>\n",
       "      <td>1.000000</td>\n",
       "      <td>0.000000</td>\n",
       "      <td>0.000000</td>\n",
       "    </tr>\n",
       "    <tr>\n",
       "      <th>25%</th>\n",
       "      <td>NaN</td>\n",
       "      <td>NaN</td>\n",
       "      <td>16.000000</td>\n",
       "      <td>NaN</td>\n",
       "      <td>NaN</td>\n",
       "      <td>NaN</td>\n",
       "      <td>2.000000</td>\n",
       "      <td>2.000000</td>\n",
       "      <td>NaN</td>\n",
       "      <td>NaN</td>\n",
       "      <td>NaN</td>\n",
       "      <td>NaN</td>\n",
       "      <td>1.000000</td>\n",
       "      <td>1.000000</td>\n",
       "      <td>0.000000</td>\n",
       "      <td>NaN</td>\n",
       "      <td>NaN</td>\n",
       "      <td>NaN</td>\n",
       "      <td>NaN</td>\n",
       "      <td>NaN</td>\n",
       "      <td>-6.000000</td>\n",
       "      <td>NaN</td>\n",
       "      <td>NaN</td>\n",
       "      <td>NaN</td>\n",
       "      <td>4.000000</td>\n",
       "      <td>3.000000</td>\n",
       "      <td>2.000000</td>\n",
       "      <td>3.000000</td>\n",
       "      <td>0.000000</td>\n",
       "      <td>40.000000</td>\n",
       "    </tr>\n",
       "    <tr>\n",
       "      <th>50%</th>\n",
       "      <td>NaN</td>\n",
       "      <td>NaN</td>\n",
       "      <td>17.000000</td>\n",
       "      <td>NaN</td>\n",
       "      <td>NaN</td>\n",
       "      <td>NaN</td>\n",
       "      <td>3.000000</td>\n",
       "      <td>2.000000</td>\n",
       "      <td>NaN</td>\n",
       "      <td>NaN</td>\n",
       "      <td>NaN</td>\n",
       "      <td>NaN</td>\n",
       "      <td>1.000000</td>\n",
       "      <td>2.000000</td>\n",
       "      <td>0.000000</td>\n",
       "      <td>NaN</td>\n",
       "      <td>NaN</td>\n",
       "      <td>NaN</td>\n",
       "      <td>NaN</td>\n",
       "      <td>NaN</td>\n",
       "      <td>-6.000000</td>\n",
       "      <td>NaN</td>\n",
       "      <td>NaN</td>\n",
       "      <td>NaN</td>\n",
       "      <td>4.000000</td>\n",
       "      <td>3.000000</td>\n",
       "      <td>3.000000</td>\n",
       "      <td>4.000000</td>\n",
       "      <td>4.000000</td>\n",
       "      <td>55.000000</td>\n",
       "    </tr>\n",
       "    <tr>\n",
       "      <th>75%</th>\n",
       "      <td>NaN</td>\n",
       "      <td>NaN</td>\n",
       "      <td>18.000000</td>\n",
       "      <td>NaN</td>\n",
       "      <td>NaN</td>\n",
       "      <td>NaN</td>\n",
       "      <td>4.000000</td>\n",
       "      <td>3.000000</td>\n",
       "      <td>NaN</td>\n",
       "      <td>NaN</td>\n",
       "      <td>NaN</td>\n",
       "      <td>NaN</td>\n",
       "      <td>2.000000</td>\n",
       "      <td>2.000000</td>\n",
       "      <td>0.000000</td>\n",
       "      <td>NaN</td>\n",
       "      <td>NaN</td>\n",
       "      <td>NaN</td>\n",
       "      <td>NaN</td>\n",
       "      <td>NaN</td>\n",
       "      <td>-3.000000</td>\n",
       "      <td>NaN</td>\n",
       "      <td>NaN</td>\n",
       "      <td>NaN</td>\n",
       "      <td>5.000000</td>\n",
       "      <td>4.000000</td>\n",
       "      <td>4.000000</td>\n",
       "      <td>5.000000</td>\n",
       "      <td>8.000000</td>\n",
       "      <td>70.000000</td>\n",
       "    </tr>\n",
       "    <tr>\n",
       "      <th>max</th>\n",
       "      <td>NaN</td>\n",
       "      <td>NaN</td>\n",
       "      <td>22.000000</td>\n",
       "      <td>NaN</td>\n",
       "      <td>NaN</td>\n",
       "      <td>NaN</td>\n",
       "      <td>4.000000</td>\n",
       "      <td>40.000000</td>\n",
       "      <td>NaN</td>\n",
       "      <td>NaN</td>\n",
       "      <td>NaN</td>\n",
       "      <td>NaN</td>\n",
       "      <td>4.000000</td>\n",
       "      <td>4.000000</td>\n",
       "      <td>3.000000</td>\n",
       "      <td>NaN</td>\n",
       "      <td>NaN</td>\n",
       "      <td>NaN</td>\n",
       "      <td>NaN</td>\n",
       "      <td>NaN</td>\n",
       "      <td>-3.000000</td>\n",
       "      <td>NaN</td>\n",
       "      <td>NaN</td>\n",
       "      <td>NaN</td>\n",
       "      <td>5.000000</td>\n",
       "      <td>5.000000</td>\n",
       "      <td>5.000000</td>\n",
       "      <td>5.000000</td>\n",
       "      <td>385.000000</td>\n",
       "      <td>100.000000</td>\n",
       "    </tr>\n",
       "  </tbody>\n",
       "</table>\n",
       "</div>"
      ],
      "text/plain": [
       "       school  sex         age address famsize pstatus        medu  \\\n",
       "count     395  395  395.000000     378     368     350  392.000000   \n",
       "unique      2    2         NaN       2       2       2         NaN   \n",
       "top        GP    F         NaN       U     GT3       T         NaN   \n",
       "freq      349  208         NaN     295     261     314         NaN   \n",
       "mean      NaN  NaN   16.696203     NaN     NaN     NaN    2.750000   \n",
       "std       NaN  NaN    1.276043     NaN     NaN     NaN    1.098127   \n",
       "min       NaN  NaN   15.000000     NaN     NaN     NaN    0.000000   \n",
       "25%       NaN  NaN   16.000000     NaN     NaN     NaN    2.000000   \n",
       "50%       NaN  NaN   17.000000     NaN     NaN     NaN    3.000000   \n",
       "75%       NaN  NaN   18.000000     NaN     NaN     NaN    4.000000   \n",
       "max       NaN  NaN   22.000000     NaN     NaN     NaN    4.000000   \n",
       "\n",
       "              fedu   mjob   fjob  reason guardian  traveltime   studytime  \\\n",
       "count   371.000000    376    359     378      364  367.000000  388.000000   \n",
       "unique         NaN      5      5       4        3         NaN         NaN   \n",
       "top            NaN  other  other  course   mother         NaN         NaN   \n",
       "freq           NaN    133    197     137      250         NaN         NaN   \n",
       "mean      2.614555    NaN    NaN     NaN      NaN    1.438692    2.038660   \n",
       "std       2.228732    NaN    NaN     NaN      NaN    0.694181    0.842078   \n",
       "min       0.000000    NaN    NaN     NaN      NaN    1.000000    1.000000   \n",
       "25%       2.000000    NaN    NaN     NaN      NaN    1.000000    1.000000   \n",
       "50%       2.000000    NaN    NaN     NaN      NaN    1.000000    2.000000   \n",
       "75%       3.000000    NaN    NaN     NaN      NaN    2.000000    2.000000   \n",
       "max      40.000000    NaN    NaN     NaN      NaN    4.000000    4.000000   \n",
       "\n",
       "          failures schoolsup famsup paid activities nursery  \\\n",
       "count   373.000000       386    356  355        381     379   \n",
       "unique         NaN         2      2    2          2       2   \n",
       "top            NaN        no    yes   no        yes     yes   \n",
       "freq           NaN       335    219  200        195     300   \n",
       "mean      0.337802       NaN    NaN  NaN        NaN     NaN   \n",
       "std       0.743135       NaN    NaN  NaN        NaN     NaN   \n",
       "min       0.000000       NaN    NaN  NaN        NaN     NaN   \n",
       "25%       0.000000       NaN    NaN  NaN        NaN     NaN   \n",
       "50%       0.000000       NaN    NaN  NaN        NaN     NaN   \n",
       "75%       0.000000       NaN    NaN  NaN        NaN     NaN   \n",
       "max       3.000000       NaN    NaN  NaN        NaN     NaN   \n",
       "\n",
       "        studytime_granular higher internet romantic      famrel    freetime  \\\n",
       "count           388.000000    375      361      364  368.000000  384.000000   \n",
       "unique                 NaN      2        2        2         NaN         NaN   \n",
       "top                    NaN    yes      yes       no         NaN         NaN   \n",
       "freq                   NaN    356      305      240         NaN         NaN   \n",
       "mean             -6.115979    NaN      NaN      NaN    3.937500    3.231771   \n",
       "std               2.526235    NaN      NaN      NaN    0.927277    0.993940   \n",
       "min             -12.000000    NaN      NaN      NaN   -1.000000    1.000000   \n",
       "25%              -6.000000    NaN      NaN      NaN    4.000000    3.000000   \n",
       "50%              -6.000000    NaN      NaN      NaN    4.000000    3.000000   \n",
       "75%              -3.000000    NaN      NaN      NaN    5.000000    4.000000   \n",
       "max              -3.000000    NaN      NaN      NaN    5.000000    5.000000   \n",
       "\n",
       "             goout      health    absences       score  \n",
       "count   387.000000  380.000000  383.000000  389.000000  \n",
       "unique         NaN         NaN         NaN         NaN  \n",
       "top            NaN         NaN         NaN         NaN  \n",
       "freq           NaN         NaN         NaN         NaN  \n",
       "mean      3.105943    3.531579    7.279373   52.262211  \n",
       "std       1.115896    1.396019   23.465197   22.919022  \n",
       "min       1.000000    1.000000    0.000000    0.000000  \n",
       "25%       2.000000    3.000000    0.000000   40.000000  \n",
       "50%       3.000000    4.000000    4.000000   55.000000  \n",
       "75%       4.000000    5.000000    8.000000   70.000000  \n",
       "max       5.000000    5.000000  385.000000  100.000000  "
      ]
     },
     "execution_count": 6,
     "metadata": {},
     "output_type": "execute_result"
    }
   ],
   "source": [
    "df.describe(include='all') # показывает статистики count,mean, std, min, 25%-50%-75% percentile, max "
   ]
  },
  {
   "cell_type": "code",
   "execution_count": 7,
   "metadata": {},
   "outputs": [
    {
     "data": {
      "text/plain": [
       "school                 2\n",
       "sex                    2\n",
       "age                    8\n",
       "address                2\n",
       "famsize                2\n",
       "pstatus                2\n",
       "medu                   5\n",
       "fedu                   6\n",
       "mjob                   5\n",
       "fjob                   5\n",
       "reason                 4\n",
       "guardian               3\n",
       "traveltime             4\n",
       "studytime              4\n",
       "failures               4\n",
       "schoolsup              2\n",
       "famsup                 2\n",
       "paid                   2\n",
       "activities             2\n",
       "nursery                2\n",
       "studytime_granular     4\n",
       "higher                 2\n",
       "internet               2\n",
       "romantic               2\n",
       "famrel                 6\n",
       "freetime               5\n",
       "goout                  5\n",
       "health                 5\n",
       "absences              36\n",
       "score                 18\n",
       "dtype: int64"
      ]
     },
     "execution_count": 7,
     "metadata": {},
     "output_type": "execute_result"
    }
   ],
   "source": [
    "df.nunique() # количество уникальных значений для каждого столбца "
   ]
  },
  {
   "cell_type": "markdown",
   "metadata": {},
   "source": [
    "По анализу уникальных значений, сразу можно посмотреть на наличие выбросов в категорийных переменных, потому из данных очевидно сколько должно быть уникальных значений.\n",
    "В итоге будем проверять столбцы, в которых уникалальных значений больше, чем должно быть, и это говорит о выбросах в них:\\\n",
    "fedu           6 должно быть 5\\\n",
    "famrel         6 должно быть 5\\\n",
    "Выбросы в числовых данных будем рассмаривать в отдельности. \\\n",
    "Так же отдельно будем смотреть studytime_granular как категориальный или нет, 4 уникальных значений \n"
   ]
  },
  {
   "cell_type": "code",
   "execution_count": 8,
   "metadata": {
    "scrolled": true
   },
   "outputs": [
    {
     "data": {
      "image/png": "[encoded data removed]",
      "text/plain": [
       "<Figure size 1440x864 with 1 Axes>"
      ]
     },
     "metadata": {
      "needs_background": "light"
     },
     "output_type": "display_data"
    }
   ],
   "source": [
    "# Визуально оценим количество пропусков и их распределение:\n",
    "fig, ax = plt.subplots(figsize=(20,12))\n",
    "sns_heatmap = sns.heatmap(df.isnull(), yticklabels=False, cbar=False, cmap='viridis')"
   ]
  },
  {
   "cell_type": "markdown",
   "metadata": {},
   "source": [
    "Визуальное убеждаемся в наличии большего распределения пропусков и их наличия в наших переменных, но их не на столько много, чтобы удалять какие-либо столбцы"
   ]
  },
  {
   "cell_type": "code",
   "execution_count": 9,
   "metadata": {},
   "outputs": [
    {
     "data": {
      "text/plain": [
       "school                 0\n",
       "sex                    0\n",
       "age                    0\n",
       "medu                   3\n",
       "score                  6\n",
       "studytime_granular     7\n",
       "studytime              7\n",
       "goout                  8\n",
       "schoolsup              9\n",
       "freetime              11\n",
       "absences              12\n",
       "activities            14\n",
       "health                15\n",
       "nursery               16\n",
       "address               17\n",
       "reason                17\n",
       "mjob                  19\n",
       "higher                20\n",
       "failures              22\n",
       "fedu                  24\n",
       "famrel                27\n",
       "famsize               27\n",
       "traveltime            28\n",
       "guardian              31\n",
       "romantic              31\n",
       "internet              34\n",
       "fjob                  36\n",
       "famsup                39\n",
       "paid                  40\n",
       "pstatus               45\n",
       "dtype: int64"
      ]
     },
     "execution_count": 9,
     "metadata": {},
     "output_type": "execute_result"
    }
   ],
   "source": [
    "# Посмотрим на количественный показатель пропусков в данных\n",
    "df.isnull().sum().sort_values()"
   ]
  },
  {
   "cell_type": "code",
   "execution_count": 10,
   "metadata": {},
   "outputs": [
    {
     "data": {
      "text/plain": [
       "<matplotlib.axes._subplots.AxesSubplot at 0x1cc724ae648>"
      ]
     },
     "execution_count": 10,
     "metadata": {},
     "output_type": "execute_result"
    },
    {
     "data": {
      "image/png": "[encoded data removed]",
      "text/plain": [
       "<Figure size 432x288 with 1 Axes>"
      ]
     },
     "metadata": {
      "needs_background": "light"
     },
     "output_type": "display_data"
    }
   ],
   "source": [
    "# Рассмотрим распределение нашей независимой переменной\n",
    "df.score.hist()"
   ]
  },
  {
   "cell_type": "code",
   "execution_count": 11,
   "metadata": {},
   "outputs": [
    {
     "data": {
      "text/plain": [
       "<matplotlib.axes._subplots.AxesSubplot at 0x1cc71c72c88>"
      ]
     },
     "execution_count": 11,
     "metadata": {},
     "output_type": "execute_result"
    },
    {
     "data": {
      "image/png": "[encoded data removed]",
      "text/plain": [
       "<Figure size 432x288 with 1 Axes>"
      ]
     },
     "metadata": {
      "needs_background": "light"
     },
     "output_type": "display_data"
    }
   ],
   "source": [
    "sns.distplot(df.score)"
   ]
  },
  {
   "cell_type": "markdown",
   "metadata": {},
   "source": [
    "По анализу столбца score видим что выбросов нет, есть нулевые значения, которые в реальности имееют место быть, и есть пропуски, которые будем учитывать, как отдельный признак"
   ]
  },
  {
   "cell_type": "markdown",
   "metadata": {},
   "source": [
    "### Первичный анализ данных в столбцах. Часть II - Числовые переменные"
   ]
  },
  {
   "cell_type": "code",
   "execution_count": 12,
   "metadata": {},
   "outputs": [
    {
     "data": {
      "text/plain": [
       "count    395.000000\n",
       "mean      16.696203\n",
       "std        1.276043\n",
       "min       15.000000\n",
       "25%       16.000000\n",
       "50%       17.000000\n",
       "75%       18.000000\n",
       "max       22.000000\n",
       "Name: age, dtype: float64"
      ]
     },
     "execution_count": 12,
     "metadata": {},
     "output_type": "execute_result"
    },
    {
     "data": {
      "image/png": "[encoded data removed]",
      "text/plain": [
       "<Figure size 432x288 with 1 Axes>"
      ]
     },
     "metadata": {
      "needs_background": "light"
     },
     "output_type": "display_data"
    }
   ],
   "source": [
    "# age/возраст - посмотрим распределение признака:\n",
    "df.age.hist()\n",
    "df.age.describe()"
   ]
  },
  {
   "cell_type": "code",
   "execution_count": 13,
   "metadata": {},
   "outputs": [],
   "source": [
    "# По возрасту видим среднее значение 17 лет, min 15, max 22, и выбросов не наблюдается"
   ]
  },
  {
   "cell_type": "code",
   "execution_count": 14,
   "metadata": {},
   "outputs": [
    {
     "data": {
      "text/plain": [
       "count    395.000000\n",
       "mean       2.870661\n",
       "std        0.071139\n",
       "min        2.773000\n",
       "25%        2.833000\n",
       "50%        2.890000\n",
       "75%        2.944000\n",
       "max        3.135000\n",
       "Name: age, dtype: float64"
      ]
     },
     "execution_count": 14,
     "metadata": {},
     "output_type": "execute_result"
    },
    {
     "data": {
      "image/png": "[encoded data removed]",
      "text/plain": [
       "<Figure size 432x288 with 1 Axes>"
      ]
     },
     "metadata": {
      "needs_background": "light"
     },
     "output_type": "display_data"
    }
   ],
   "source": [
    "# Поскольку в нашей перемееной так же есть большой перепад значений, поэтому попробуем логарифмировать переменную\n",
    "df.age = df.age.apply(lambda w: np.log(w + 1)).round(3)\n",
    "df.age.hist()\n",
    "df.age.describe()"
   ]
  },
  {
   "cell_type": "code",
   "execution_count": 15,
   "metadata": {},
   "outputs": [
    {
     "data": {
      "text/plain": [
       "count    383.000000\n",
       "mean       7.279373\n",
       "std       23.465197\n",
       "min        0.000000\n",
       "25%        0.000000\n",
       "50%        4.000000\n",
       "75%        8.000000\n",
       "max      385.000000\n",
       "Name: absences, dtype: float64"
      ]
     },
     "execution_count": 15,
     "metadata": {},
     "output_type": "execute_result"
    },
    {
     "data": {
      "image/png": "[encoded data removed]",
      "text/plain": [
       "<Figure size 432x288 with 1 Axes>"
      ]
     },
     "metadata": {
      "needs_background": "light"
     },
     "output_type": "display_data"
    }
   ],
   "source": [
    "# absences/пропуски занятий - посмотрим распределение признака:\n",
    "df.absences.hist()\n",
    "df.absences.describe()"
   ]
  },
  {
   "cell_type": "code",
   "execution_count": 16,
   "metadata": {},
   "outputs": [],
   "source": [
    "# В absences есть выбросы, и max=385, что достаточно очень отличается от нормального распределения"
   ]
  },
  {
   "cell_type": "code",
   "execution_count": 17,
   "metadata": {},
   "outputs": [
    {
     "data": {
      "text/plain": [
       "count    383.000000\n",
       "mean       1.396781\n",
       "std        1.100824\n",
       "min        0.000000\n",
       "25%        0.000000\n",
       "50%        1.609000\n",
       "75%        2.197000\n",
       "max        5.956000\n",
       "Name: absences, dtype: float64"
      ]
     },
     "execution_count": 17,
     "metadata": {},
     "output_type": "execute_result"
    },
    {
     "data": {
      "image/png": "[encoded data removed]",
      "text/plain": [
       "<Figure size 432x288 with 1 Axes>"
      ]
     },
     "metadata": {
      "needs_background": "light"
     },
     "output_type": "display_data"
    }
   ],
   "source": [
    "# в этой перемееной тоже есть большой перепад значений,- попробуем логарифмировать переменную\n",
    "\n",
    "df.absences = df.absences.apply(lambda w: np.log(w + 1)).round(3)\n",
    "df.absences.hist()\n",
    "df.absences.describe()"
   ]
  },
  {
   "cell_type": "code",
   "execution_count": 18,
   "metadata": {},
   "outputs": [],
   "source": [
    "# Сделаем minmax нормализацию для числовых признаков, чтобы далее лучше обучить модель для заполнения пропусков в нашей перепеменной absences \n",
    "from sklearn.preprocessing import MinMaxScaler\n",
    "#df_2 = df.loc[df.absences<4.8] # ограним датасет от больших выбросов, чтобы точнее научить модель\n",
    "\n",
    "test_data = df.loc[:, ['age', 'absences']]\n",
    "scaler = MinMaxScaler()\n",
    "data = scaler.fit_transform(test_data)\n",
    "df_m3 = pd.DataFrame({'age_n':data[:,0],'absences_n':data[:,1]}).round(2)\n",
    "\n",
    "df['age'] = df_m3['age_n']\n",
    "df['absences'] = df_m3['absences_n']"
   ]
  },
  {
   "cell_type": "code",
   "execution_count": 19,
   "metadata": {},
   "outputs": [],
   "source": [
    "# Вместо замены пропусков средним значением,\n",
    "# по методу  линейн.регрессии научим модель прогнозировать переменную absences, и заполним пропуски в этой переменной\n",
    "\n",
    "from sklearn.model_selection import train_test_split# инструмент для создания и обучения модели\n",
    "from sklearn import metrics # инструменты для оценки точности модели\n",
    "# Загружаем специальный удобный инструмент для разделения датасета:\n",
    "from sklearn.model_selection import train_test_split\n",
    "\n",
    "df_2 = df.loc[df.absences<4.8]\n",
    "train_df = df_2.loc[:, ['age','absences']].dropna()\n",
    "#test_df = df[pd.isna(df.absences)== True]['age']#.values #.reshape((-1, 1))\n",
    "\n",
    "Y= train_df['absences'].values \n",
    "X = train_df['age'].values.reshape((-1, 1))\n",
    "\n",
    "\n",
    "X_train, X_test, Y_train, Y_test = train_test_split(X, Y, test_size= 0.3)\n",
    "\n",
    "from sklearn.linear_model import LinearRegression\n",
    "myModel = LinearRegression() #Обозначаем, что наша модель - линейная регрессия\n",
    "myModel.fit(X_train,Y_train) #обучаем модель на обучающих данных\n",
    "\n",
    "y_pred = myModel.predict(X_test)\n"
   ]
  },
  {
   "cell_type": "code",
   "execution_count": 20,
   "metadata": {},
   "outputs": [
    {
     "name": "stdout",
     "output_type": "stream",
     "text": [
      "MAE: 0.13617759856891798\n"
     ]
    }
   ],
   "source": [
    "print('MAE:', metrics.mean_absolute_error(Y_test, y_pred))"
   ]
  },
  {
   "cell_type": "code",
   "execution_count": 21,
   "metadata": {},
   "outputs": [
    {
     "data": {
      "text/plain": [
       "0"
      ]
     },
     "execution_count": 21,
     "metadata": {},
     "output_type": "execute_result"
    }
   ],
   "source": [
    "test_df = df[pd.isna(df.absences)== True]['age'].values.reshape((-1, 1))\n",
    "y2=myModel.predict(test_df)\n",
    "absences_nan = pd.Series(y2).round(2)\n",
    "for a in absences_nan:\n",
    "    df.absences = df.absences.apply(lambda x: a if pd.isnull(x) else a if x == 'nan'else x) # заменили пропуски на предсказанные значения\n",
    "\n",
    "df.absences.isna().sum() # проверим остались ли пропуски"
   ]
  },
  {
   "cell_type": "code",
   "execution_count": 22,
   "metadata": {},
   "outputs": [
    {
     "data": {
      "text/plain": [
       "count    395.000000\n",
       "mean       0.232886\n",
       "std        0.182289\n",
       "min        0.000000\n",
       "25%        0.000000\n",
       "50%        0.270000\n",
       "75%        0.370000\n",
       "max        1.000000\n",
       "Name: absences, dtype: float64"
      ]
     },
     "execution_count": 22,
     "metadata": {},
     "output_type": "execute_result"
    },
    {
     "data": {
      "image/png": "[encoded data removed]",
      "text/plain": [
       "<Figure size 432x288 with 1 Axes>"
      ]
     },
     "metadata": {
      "needs_background": "light"
     },
     "output_type": "display_data"
    }
   ],
   "source": [
    "# визуально посмотрим на преобразавание признака\n",
    "df.absences.hist()\n",
    "df.absences.describe()"
   ]
  },
  {
   "cell_type": "code",
   "execution_count": 23,
   "metadata": {},
   "outputs": [],
   "source": [
    "# Значение более згладились, исключим выбросы и скратим длинный \"хвост\" значений, примерно до 0.8\n",
    "df = df.loc[df.absences<0.8] \n",
    "df.reset_index(drop=True, inplace=True)  #сбросим индексы\n"
   ]
  },
  {
   "cell_type": "markdown",
   "metadata": {},
   "source": [
    "Оставим прогнозные значения, в любом случае, можно вернуться и заменить их на 0 или среднее значение."
   ]
  },
  {
   "cell_type": "markdown",
   "metadata": {},
   "source": [
    "### Первичный анализ данных в столбцах. Часть II - Категориальные переменные"
   ]
  },
  {
   "cell_type": "markdown",
   "metadata": {},
   "source": [
    "Из предварительного анализа столбцы fedu и failures имеют уникалальных значений больше, чем должно быть, поэтому посмотрим на них в отдельности"
   ]
  },
  {
   "cell_type": "code",
   "execution_count": 24,
   "metadata": {},
   "outputs": [
    {
     "name": "stdout",
     "output_type": "stream",
     "text": [
      "2.0     105\n",
      "3.0      95\n",
      "4.0      88\n",
      "1.0      78\n",
      "0.0       2\n",
      "40.0      1\n",
      "Name: fedu, dtype: int64\n",
      " 4.0    182\n",
      " 5.0     98\n",
      " 3.0     62\n",
      " 2.0     16\n",
      " 1.0      7\n",
      "-1.0      1\n",
      "Name: famrel, dtype: int64\n"
     ]
    }
   ],
   "source": [
    "print(df.fedu.value_counts())\n",
    "print(df.famrel.value_counts())"
   ]
  },
  {
   "cell_type": "code",
   "execution_count": 25,
   "metadata": {},
   "outputs": [
    {
     "name": "stdout",
     "output_type": "stream",
     "text": [
      "2.0    105\n",
      "3.0     95\n",
      "4.0     89\n",
      "1.0     78\n",
      "0.0      2\n",
      "Name: fedu, dtype: int64\n",
      "0.0    292\n",
      "1.0     49\n",
      "2.0     15\n",
      "3.0     15\n",
      "Name: failures, dtype: int64\n"
     ]
    }
   ],
   "source": [
    "# Очевидно эти лишние уникальные знаяения ошибочны, логично заменим их на 4 и 1\n",
    "df.fedu.loc[(df.fedu == 40)] = 4\n",
    "df.famrel.loc[(df.famrel == -1)] = 1\n",
    "# Проверим\n",
    "print(df.fedu.value_counts())\n",
    "print(df.failures.value_counts())"
   ]
  },
  {
   "cell_type": "markdown",
   "metadata": {},
   "source": [
    "Так же из предварительного анализа подметили столбец studytime_granular\\\n",
    "Проверим его"
   ]
  },
  {
   "cell_type": "code",
   "execution_count": 26,
   "metadata": {},
   "outputs": [
    {
     "data": {
      "text/plain": [
       "-6.0     192\n",
       "-3.0     103\n",
       "-9.0      64\n",
       "-12.0     27\n",
       "Name: studytime_granular, dtype: int64"
      ]
     },
     "execution_count": 26,
     "metadata": {},
     "output_type": "execute_result"
    },
    {
     "data": {
      "image/png": "[encoded data removed]",
      "text/plain": [
       "<Figure size 432x288 with 1 Axes>"
      ]
     },
     "metadata": {
      "needs_background": "light"
     },
     "output_type": "display_data"
    }
   ],
   "source": [
    "df.studytime_granular.hist()\n",
    "df.studytime_granular.describe()\n",
    "df.studytime_granular.value_counts()"
   ]
  },
  {
   "cell_type": "markdown",
   "metadata": {},
   "source": [
    "По гистограмме и значениям понимаем, что это категорийный признак с минусовыми значениями\\\n",
    "Ниже для наглядности посмотрим на столбец с похожим названием studytime"
   ]
  },
  {
   "cell_type": "code",
   "execution_count": 27,
   "metadata": {},
   "outputs": [
    {
     "data": {
      "text/plain": [
       "2.0    192\n",
       "1.0    103\n",
       "3.0     64\n",
       "4.0     27\n",
       "Name: studytime, dtype: int64"
      ]
     },
     "execution_count": 27,
     "metadata": {},
     "output_type": "execute_result"
    },
    {
     "data": {
      "image/png": "[encoded data removed]",
      "text/plain": [
       "<Figure size 432x288 with 1 Axes>"
      ]
     },
     "metadata": {
      "needs_background": "light"
     },
     "output_type": "display_data"
    }
   ],
   "source": [
    "df.studytime.hist()\n",
    "df.studytime.describe()\n",
    "df.studytime.value_counts()"
   ]
  },
  {
   "cell_type": "markdown",
   "metadata": {},
   "source": [
    "В итоге видим что между значениями столбцов прямая  линейная обратная зависимость с коэффециентом -3, \n",
    "и корреляционный анализ это нам должен показать высокую скоррелированность признаков"
   ]
  },
  {
   "cell_type": "markdown",
   "metadata": {},
   "source": [
    " По скольку катег.признаков много, и все нужно проверить и произвести очистку данных, то для этого лучше сделать одну функцию,\n",
    " "
   ]
  },
  {
   "cell_type": "code",
   "execution_count": 28,
   "metadata": {},
   "outputs": [],
   "source": [
    "def stack (nor):\n",
    "    for i in nor:\n",
    "        #if nor[i].dtype == 'object':\n",
    "        if nor[i].nunique()>2: \n",
    "            nor[i] = nor[i].apply(lambda x: None if pd.isnull(x) else None if x == 'nan'else x) # для Dummy-переменной\n",
    "        else:\n",
    "            a = (nor[i].describe())[2]\n",
    "            nor[i] = nor[i].apply(lambda x: a if pd.isnull(x) else a if x == 'nan'else x) # заменяем пропуски тор-значением\n",
    "            \n",
    "    return nor\n",
    "    "
   ]
  },
  {
   "cell_type": "markdown",
   "metadata": {},
   "source": [
    "### Корреляционный анализ"
   ]
  },
  {
   "cell_type": "code",
   "execution_count": 29,
   "metadata": {},
   "outputs": [
    {
     "data": {
      "text/html": [
       "<div>\n",
       "<style scoped>\n",
       "    .dataframe tbody tr th:only-of-type {\n",
       "        vertical-align: middle;\n",
       "    }\n",
       "\n",
       "    .dataframe tbody tr th {\n",
       "        vertical-align: top;\n",
       "    }\n",
       "\n",
       "    .dataframe thead th {\n",
       "        text-align: right;\n",
       "    }\n",
       "</style>\n",
       "<table border=\"1\" class=\"dataframe\">\n",
       "  <thead>\n",
       "    <tr style=\"text-align: right;\">\n",
       "      <th></th>\n",
       "      <th>age</th>\n",
       "      <th>absences</th>\n",
       "      <th>score</th>\n",
       "    </tr>\n",
       "  </thead>\n",
       "  <tbody>\n",
       "    <tr>\n",
       "      <th>age</th>\n",
       "      <td>1.000000</td>\n",
       "      <td>0.138008</td>\n",
       "      <td>-0.153721</td>\n",
       "    </tr>\n",
       "    <tr>\n",
       "      <th>absences</th>\n",
       "      <td>0.138008</td>\n",
       "      <td>1.000000</td>\n",
       "      <td>0.156791</td>\n",
       "    </tr>\n",
       "    <tr>\n",
       "      <th>score</th>\n",
       "      <td>-0.153721</td>\n",
       "      <td>0.156791</td>\n",
       "      <td>1.000000</td>\n",
       "    </tr>\n",
       "  </tbody>\n",
       "</table>\n",
       "</div>"
      ],
      "text/plain": [
       "               age  absences     score\n",
       "age       1.000000  0.138008 -0.153721\n",
       "absences  0.138008  1.000000  0.156791\n",
       "score    -0.153721  0.156791  1.000000"
      ]
     },
     "execution_count": 29,
     "metadata": {},
     "output_type": "execute_result"
    }
   ],
   "source": [
    "df2 = df.loc[:, ['age', 'absences', 'score']]\n",
    "df2.corr(method='pearson')"
   ]
  },
  {
   "cell_type": "markdown",
   "metadata": {},
   "source": [
    "По анализу числовые переменные мало скоррелированы с нашей независимой переменной, у нас всего 2 числовых переменных, корреляция между которыми тоже низкая."
   ]
  },
  {
   "cell_type": "code",
   "execution_count": 30,
   "metadata": {},
   "outputs": [
    {
     "data": {
      "text/html": [
       "<div>\n",
       "<style scoped>\n",
       "    .dataframe tbody tr th:only-of-type {\n",
       "        vertical-align: middle;\n",
       "    }\n",
       "\n",
       "    .dataframe tbody tr th {\n",
       "        vertical-align: top;\n",
       "    }\n",
       "\n",
       "    .dataframe thead th {\n",
       "        text-align: right;\n",
       "    }\n",
       "</style>\n",
       "<table border=\"1\" class=\"dataframe\">\n",
       "  <thead>\n",
       "    <tr style=\"text-align: right;\">\n",
       "      <th></th>\n",
       "      <th>age</th>\n",
       "      <th>medu</th>\n",
       "      <th>fedu</th>\n",
       "      <th>traveltime</th>\n",
       "      <th>studytime</th>\n",
       "      <th>failures</th>\n",
       "      <th>studytime_granular</th>\n",
       "      <th>famrel</th>\n",
       "      <th>freetime</th>\n",
       "      <th>goout</th>\n",
       "      <th>health</th>\n",
       "      <th>absences</th>\n",
       "      <th>score</th>\n",
       "    </tr>\n",
       "  </thead>\n",
       "  <tbody>\n",
       "    <tr>\n",
       "      <th>age</th>\n",
       "      <td>1.000000</td>\n",
       "      <td>-0.161422</td>\n",
       "      <td>-0.159929</td>\n",
       "      <td>0.088116</td>\n",
       "      <td>-0.016703</td>\n",
       "      <td>0.205719</td>\n",
       "      <td>0.016703</td>\n",
       "      <td>0.052368</td>\n",
       "      <td>0.013250</td>\n",
       "      <td>0.131758</td>\n",
       "      <td>-0.066422</td>\n",
       "      <td>0.138008</td>\n",
       "      <td>-0.153721</td>\n",
       "    </tr>\n",
       "    <tr>\n",
       "      <th>medu</th>\n",
       "      <td>-0.161422</td>\n",
       "      <td>1.000000</td>\n",
       "      <td>0.626567</td>\n",
       "      <td>-0.176380</td>\n",
       "      <td>0.078509</td>\n",
       "      <td>-0.244267</td>\n",
       "      <td>-0.078509</td>\n",
       "      <td>-0.016460</td>\n",
       "      <td>0.028320</td>\n",
       "      <td>0.062615</td>\n",
       "      <td>-0.045223</td>\n",
       "      <td>0.096695</td>\n",
       "      <td>0.216238</td>\n",
       "    </tr>\n",
       "    <tr>\n",
       "      <th>fedu</th>\n",
       "      <td>-0.159929</td>\n",
       "      <td>0.626567</td>\n",
       "      <td>1.000000</td>\n",
       "      <td>-0.145703</td>\n",
       "      <td>0.012900</td>\n",
       "      <td>-0.271509</td>\n",
       "      <td>-0.012900</td>\n",
       "      <td>-0.022049</td>\n",
       "      <td>-0.023350</td>\n",
       "      <td>0.046331</td>\n",
       "      <td>0.024808</td>\n",
       "      <td>0.011520</td>\n",
       "      <td>0.129242</td>\n",
       "    </tr>\n",
       "    <tr>\n",
       "      <th>traveltime</th>\n",
       "      <td>0.088116</td>\n",
       "      <td>-0.176380</td>\n",
       "      <td>-0.145703</td>\n",
       "      <td>1.000000</td>\n",
       "      <td>-0.102496</td>\n",
       "      <td>0.068639</td>\n",
       "      <td>0.102496</td>\n",
       "      <td>-0.023664</td>\n",
       "      <td>-0.019325</td>\n",
       "      <td>0.035855</td>\n",
       "      <td>-0.021494</td>\n",
       "      <td>-0.013690</td>\n",
       "      <td>-0.068914</td>\n",
       "    </tr>\n",
       "    <tr>\n",
       "      <th>studytime</th>\n",
       "      <td>-0.016703</td>\n",
       "      <td>0.078509</td>\n",
       "      <td>0.012900</td>\n",
       "      <td>-0.102496</td>\n",
       "      <td>1.000000</td>\n",
       "      <td>-0.180014</td>\n",
       "      <td>-1.000000</td>\n",
       "      <td>0.039753</td>\n",
       "      <td>-0.122321</td>\n",
       "      <td>-0.051685</td>\n",
       "      <td>-0.080049</td>\n",
       "      <td>-0.045979</td>\n",
       "      <td>0.116202</td>\n",
       "    </tr>\n",
       "    <tr>\n",
       "      <th>failures</th>\n",
       "      <td>0.205719</td>\n",
       "      <td>-0.244267</td>\n",
       "      <td>-0.271509</td>\n",
       "      <td>0.068639</td>\n",
       "      <td>-0.180014</td>\n",
       "      <td>1.000000</td>\n",
       "      <td>0.180014</td>\n",
       "      <td>-0.019835</td>\n",
       "      <td>0.088120</td>\n",
       "      <td>0.115095</td>\n",
       "      <td>0.079300</td>\n",
       "      <td>0.051494</td>\n",
       "      <td>-0.344276</td>\n",
       "    </tr>\n",
       "    <tr>\n",
       "      <th>studytime_granular</th>\n",
       "      <td>0.016703</td>\n",
       "      <td>-0.078509</td>\n",
       "      <td>-0.012900</td>\n",
       "      <td>0.102496</td>\n",
       "      <td>-1.000000</td>\n",
       "      <td>0.180014</td>\n",
       "      <td>1.000000</td>\n",
       "      <td>-0.039753</td>\n",
       "      <td>0.122321</td>\n",
       "      <td>0.051685</td>\n",
       "      <td>0.080049</td>\n",
       "      <td>0.045979</td>\n",
       "      <td>-0.116202</td>\n",
       "    </tr>\n",
       "    <tr>\n",
       "      <th>famrel</th>\n",
       "      <td>0.052368</td>\n",
       "      <td>-0.016460</td>\n",
       "      <td>-0.022049</td>\n",
       "      <td>-0.023664</td>\n",
       "      <td>0.039753</td>\n",
       "      <td>-0.019835</td>\n",
       "      <td>-0.039753</td>\n",
       "      <td>1.000000</td>\n",
       "      <td>0.167730</td>\n",
       "      <td>0.064116</td>\n",
       "      <td>0.083675</td>\n",
       "      <td>-0.092665</td>\n",
       "      <td>0.065547</td>\n",
       "    </tr>\n",
       "    <tr>\n",
       "      <th>freetime</th>\n",
       "      <td>0.013250</td>\n",
       "      <td>0.028320</td>\n",
       "      <td>-0.023350</td>\n",
       "      <td>-0.019325</td>\n",
       "      <td>-0.122321</td>\n",
       "      <td>0.088120</td>\n",
       "      <td>0.122321</td>\n",
       "      <td>0.167730</td>\n",
       "      <td>1.000000</td>\n",
       "      <td>0.294446</td>\n",
       "      <td>0.059978</td>\n",
       "      <td>-0.012279</td>\n",
       "      <td>0.021493</td>\n",
       "    </tr>\n",
       "    <tr>\n",
       "      <th>goout</th>\n",
       "      <td>0.131758</td>\n",
       "      <td>0.062615</td>\n",
       "      <td>0.046331</td>\n",
       "      <td>0.035855</td>\n",
       "      <td>-0.051685</td>\n",
       "      <td>0.115095</td>\n",
       "      <td>0.051685</td>\n",
       "      <td>0.064116</td>\n",
       "      <td>0.294446</td>\n",
       "      <td>1.000000</td>\n",
       "      <td>-0.018411</td>\n",
       "      <td>0.117058</td>\n",
       "      <td>-0.122992</td>\n",
       "    </tr>\n",
       "    <tr>\n",
       "      <th>health</th>\n",
       "      <td>-0.066422</td>\n",
       "      <td>-0.045223</td>\n",
       "      <td>0.024808</td>\n",
       "      <td>-0.021494</td>\n",
       "      <td>-0.080049</td>\n",
       "      <td>0.079300</td>\n",
       "      <td>0.080049</td>\n",
       "      <td>0.083675</td>\n",
       "      <td>0.059978</td>\n",
       "      <td>-0.018411</td>\n",
       "      <td>1.000000</td>\n",
       "      <td>-0.047865</td>\n",
       "      <td>-0.068951</td>\n",
       "    </tr>\n",
       "    <tr>\n",
       "      <th>absences</th>\n",
       "      <td>0.138008</td>\n",
       "      <td>0.096695</td>\n",
       "      <td>0.011520</td>\n",
       "      <td>-0.013690</td>\n",
       "      <td>-0.045979</td>\n",
       "      <td>0.051494</td>\n",
       "      <td>0.045979</td>\n",
       "      <td>-0.092665</td>\n",
       "      <td>-0.012279</td>\n",
       "      <td>0.117058</td>\n",
       "      <td>-0.047865</td>\n",
       "      <td>1.000000</td>\n",
       "      <td>0.156791</td>\n",
       "    </tr>\n",
       "    <tr>\n",
       "      <th>score</th>\n",
       "      <td>-0.153721</td>\n",
       "      <td>0.216238</td>\n",
       "      <td>0.129242</td>\n",
       "      <td>-0.068914</td>\n",
       "      <td>0.116202</td>\n",
       "      <td>-0.344276</td>\n",
       "      <td>-0.116202</td>\n",
       "      <td>0.065547</td>\n",
       "      <td>0.021493</td>\n",
       "      <td>-0.122992</td>\n",
       "      <td>-0.068951</td>\n",
       "      <td>0.156791</td>\n",
       "      <td>1.000000</td>\n",
       "    </tr>\n",
       "  </tbody>\n",
       "</table>\n",
       "</div>"
      ],
      "text/plain": [
       "                         age      medu      fedu  traveltime  studytime  \\\n",
       "age                 1.000000 -0.161422 -0.159929    0.088116  -0.016703   \n",
       "medu               -0.161422  1.000000  0.626567   -0.176380   0.078509   \n",
       "fedu               -0.159929  0.626567  1.000000   -0.145703   0.012900   \n",
       "traveltime          0.088116 -0.176380 -0.145703    1.000000  -0.102496   \n",
       "studytime          -0.016703  0.078509  0.012900   -0.102496   1.000000   \n",
       "failures            0.205719 -0.244267 -0.271509    0.068639  -0.180014   \n",
       "studytime_granular  0.016703 -0.078509 -0.012900    0.102496  -1.000000   \n",
       "famrel              0.052368 -0.016460 -0.022049   -0.023664   0.039753   \n",
       "freetime            0.013250  0.028320 -0.023350   -0.019325  -0.122321   \n",
       "goout               0.131758  0.062615  0.046331    0.035855  -0.051685   \n",
       "health             -0.066422 -0.045223  0.024808   -0.021494  -0.080049   \n",
       "absences            0.138008  0.096695  0.011520   -0.013690  -0.045979   \n",
       "score              -0.153721  0.216238  0.129242   -0.068914   0.116202   \n",
       "\n",
       "                    failures  studytime_granular    famrel  freetime  \\\n",
       "age                 0.205719            0.016703  0.052368  0.013250   \n",
       "medu               -0.244267           -0.078509 -0.016460  0.028320   \n",
       "fedu               -0.271509           -0.012900 -0.022049 -0.023350   \n",
       "traveltime          0.068639            0.102496 -0.023664 -0.019325   \n",
       "studytime          -0.180014           -1.000000  0.039753 -0.122321   \n",
       "failures            1.000000            0.180014 -0.019835  0.088120   \n",
       "studytime_granular  0.180014            1.000000 -0.039753  0.122321   \n",
       "famrel             -0.019835           -0.039753  1.000000  0.167730   \n",
       "freetime            0.088120            0.122321  0.167730  1.000000   \n",
       "goout               0.115095            0.051685  0.064116  0.294446   \n",
       "health              0.079300            0.080049  0.083675  0.059978   \n",
       "absences            0.051494            0.045979 -0.092665 -0.012279   \n",
       "score              -0.344276           -0.116202  0.065547  0.021493   \n",
       "\n",
       "                       goout    health  absences     score  \n",
       "age                 0.131758 -0.066422  0.138008 -0.153721  \n",
       "medu                0.062615 -0.045223  0.096695  0.216238  \n",
       "fedu                0.046331  0.024808  0.011520  0.129242  \n",
       "traveltime          0.035855 -0.021494 -0.013690 -0.068914  \n",
       "studytime          -0.051685 -0.080049 -0.045979  0.116202  \n",
       "failures            0.115095  0.079300  0.051494 -0.344276  \n",
       "studytime_granular  0.051685  0.080049  0.045979 -0.116202  \n",
       "famrel              0.064116  0.083675 -0.092665  0.065547  \n",
       "freetime            0.294446  0.059978 -0.012279  0.021493  \n",
       "goout               1.000000 -0.018411  0.117058 -0.122992  \n",
       "health             -0.018411  1.000000 -0.047865 -0.068951  \n",
       "absences            0.117058 -0.047865  1.000000  0.156791  \n",
       "score              -0.122992 -0.068951  0.156791  1.000000  "
      ]
     },
     "execution_count": 30,
     "metadata": {},
     "output_type": "execute_result"
    }
   ],
   "source": [
    "# Но поскольку у нас есть категорийные переменные в числового типа, то можем посмотреть и на их корреляию   \n",
    "df2 = df.select_dtypes(exclude ='object')\n",
    "df2.corr(method='pearson')"
   ]
  },
  {
   "cell_type": "code",
   "execution_count": 31,
   "metadata": {},
   "outputs": [
    {
     "data": {
      "text/plain": [
       "<matplotlib.axes._subplots.AxesSubplot at 0x1cc729f3ac8>"
      ]
     },
     "execution_count": 31,
     "metadata": {},
     "output_type": "execute_result"
    },
    {
     "data": {
      "image/png": "[encoded data removed]",
      "text/plain": [
       "<Figure size 864x432 with 2 Axes>"
      ]
     },
     "metadata": {
      "needs_background": "light"
     },
     "output_type": "display_data"
    }
   ],
   "source": [
    "# представим корреляционную матрицу в виде \"тепловой карты\" с помощью функции heatmap из библиотеки seaborn\n",
    "plt.figure(figsize=(12,6)) # размер графика\n",
    "#sns.heatmap(data=df2, annot=True)\n",
    "sns.heatmap(df2.corr())"
   ]
  },
  {
   "cell_type": "markdown",
   "metadata": {},
   "source": [
    "В итоге присутствует большая корреляция между fedu & medu, fedu & failures, medu & failures, а также как видим очевидную зависимость между studytime & studytime_granular.\n",
    "Поскольку это это категорийные признаки, то итоги подведем после их анализа."
   ]
  },
  {
   "cell_type": "markdown",
   "metadata": {},
   "source": [
    "### Анализ номинативных переменных"
   ]
  },
  {
   "cell_type": "markdown",
   "metadata": {},
   "source": [
    "Визуально посмотрим на плотность распределения переменных"
   ]
  },
  {
   "cell_type": "code",
   "execution_count": 32,
   "metadata": {},
   "outputs": [],
   "source": [
    "def get_boxplot(column):\n",
    "    fig, ax = plt.subplots(figsize = (14, 4))\n",
    "    sns.boxplot(x=column, y='score', \n",
    "        data=df.loc[df.loc[:, column].isin(df.loc[:, column].value_counts().index[:5])],\n",
    "        ax=ax)\n",
    "    plt.xticks(rotation=45)\n",
    "    ax.set_title('Boxplot for ' + column)\n",
    "    plt.show()"
   ]
  },
  {
   "cell_type": "code",
   "execution_count": 33,
   "metadata": {},
   "outputs": [
    {
     "data": {
      "image/png": "[encoded data removed]",
      "text/plain": [
       "<Figure size 1008x288 with 1 Axes>"
      ]
     },
     "metadata": {
      "needs_background": "light"
     },
     "output_type": "display_data"
    },
    {
     "data": {
      "image/png": "[encoded data removed]",
      "text/plain": [
       "<Figure size 1008x288 with 1 Axes>"
      ]
     },
     "metadata": {
      "needs_background": "light"
     },
     "output_type": "display_data"
    },
    {
     "data": {
      "image/png": "[encoded data removed]",
      "text/plain": [
       "<Figure size 1008x288 with 1 Axes>"
      ]
     },
     "metadata": {
      "needs_background": "light"
     },
     "output_type": "display_data"
    },
    {
     "data": {
      "image/png": "[encoded data removed]",
      "text/plain": [
       "<Figure size 1008x288 with 1 Axes>"
      ]
     },
     "metadata": {
      "needs_background": "light"
     },
     "output_type": "display_data"
    },
    {
     "data": {
      "image/png": "[encoded data removed]",
      "text/plain": [
       "<Figure size 1008x288 with 1 Axes>"
      ]
     },
     "metadata": {
      "needs_background": "light"
     },
     "output_type": "display_data"
    },
    {
     "data": {
      "image/png": "[encoded data removed]",
      "text/plain": [
       "<Figure size 1008x288 with 1 Axes>"
      ]
     },
     "metadata": {
      "needs_background": "light"
     },
     "output_type": "display_data"
    },
    {
     "data": {
      "image/png": "[encoded data removed]",
      "text/plain": [
       "<Figure size 1008x288 with 1 Axes>"
      ]
     },
     "metadata": {
      "needs_background": "light"
     },
     "output_type": "display_data"
    },
    {
     "data": {
      "image/png": "[encoded data removed]",
      "text/plain": [
       "<Figure size 1008x288 with 1 Axes>"
      ]
     },
     "metadata": {
      "needs_background": "light"
     },
     "output_type": "display_data"
    },
    {
     "data": {
      "image/png": "[encoded data removed]",
      "text/plain": [
       "<Figure size 1008x288 with 1 Axes>"
      ]
     },
     "metadata": {
      "needs_background": "light"
     },
     "output_type": "display_data"
    },
    {
     "data": {
      "image/png": "[encoded data removed]",
      "text/plain": [
       "<Figure size 1008x288 with 1 Axes>"
      ]
     },
     "metadata": {
      "needs_background": "light"
     },
     "output_type": "display_data"
    },
    {
     "data": {
      "image/png": "[encoded data removed]",
      "text/plain": [
       "<Figure size 1008x288 with 1 Axes>"
      ]
     },
     "metadata": {
      "needs_background": "light"
     },
     "output_type": "display_data"
    },
    {
     "data": {
      "image/png": "[encoded data removed]",
      "text/plain": [
       "<Figure size 1008x288 with 1 Axes>"
      ]
     },
     "metadata": {
      "needs_background": "light"
     },
     "output_type": "display_data"
    },
    {
     "data": {
      "image/png": "[encoded data removed]",
      "text/plain": [
       "<Figure size 1008x288 with 1 Axes>"
      ]
     },
     "metadata": {
      "needs_background": "light"
     },
     "output_type": "display_data"
    },
    {
     "data": {
      "image/png": "[encoded data removed]",
      "text/plain": [
       "<Figure size 1008x288 with 1 Axes>"
      ]
     },
     "metadata": {
      "needs_background": "light"
     },
     "output_type": "display_data"
    },
    {
     "data": {
      "image/png": "[encoded data removed]",
      "text/plain": [
       "<Figure size 1008x288 with 1 Axes>"
      ]
     },
     "metadata": {
      "needs_background": "light"
     },
     "output_type": "display_data"
    },
    {
     "data": {
      "image/png": "[encoded data removed]",
      "text/plain": [
       "<Figure size 1008x288 with 1 Axes>"
      ]
     },
     "metadata": {
      "needs_background": "light"
     },
     "output_type": "display_data"
    },
    {
     "data": {
      "image/png": "[encoded data removed]",
      "text/plain": [
       "<Figure size 1008x288 with 1 Axes>"
      ]
     },
     "metadata": {
      "needs_background": "light"
     },
     "output_type": "display_data"
    },
    {
     "data": {
      "image/png": "[encoded data removed]",
      "text/plain": [
       "<Figure size 1008x288 with 1 Axes>"
      ]
     },
     "metadata": {
      "needs_background": "light"
     },
     "output_type": "display_data"
    },
    {
     "data": {
      "image/png": "[encoded data removed]",
      "text/plain": [
       "<Figure size 1008x288 with 1 Axes>"
      ]
     },
     "metadata": {
      "needs_background": "light"
     },
     "output_type": "display_data"
    },
    {
     "data": {
      "image/png": "[encoded data removed]",
      "text/plain": [
       "<Figure size 1008x288 with 1 Axes>"
      ]
     },
     "metadata": {
      "needs_background": "light"
     },
     "output_type": "display_data"
    },
    {
     "data": {
      "image/png": "[encoded data removed]",
      "text/plain": [
       "<Figure size 1008x288 with 1 Axes>"
      ]
     },
     "metadata": {
      "needs_background": "light"
     },
     "output_type": "display_data"
    },
    {
     "data": {
      "image/png": "[encoded data removed]",
      "text/plain": [
       "<Figure size 1008x288 with 1 Axes>"
      ]
     },
     "metadata": {
      "needs_background": "light"
     },
     "output_type": "display_data"
    },
    {
     "data": {
      "image/png": "[encoded data removed]",
      "text/plain": [
       "<Figure size 1008x288 with 1 Axes>"
      ]
     },
     "metadata": {
      "needs_background": "light"
     },
     "output_type": "display_data"
    },
    {
     "data": {
      "image/png": "[encoded data removed]",
      "text/plain": [
       "<Figure size 1008x288 with 1 Axes>"
      ]
     },
     "metadata": {
      "needs_background": "light"
     },
     "output_type": "display_data"
    },
    {
     "data": {
      "image/png": "[encoded data removed]",
      "text/plain": [
       "<Figure size 1008x288 with 1 Axes>"
      ]
     },
     "metadata": {
      "needs_background": "light"
     },
     "output_type": "display_data"
    },
    {
     "data": {
      "image/png": "[encoded data removed]",
      "text/plain": [
       "<Figure size 1008x288 with 1 Axes>"
      ]
     },
     "metadata": {
      "needs_background": "light"
     },
     "output_type": "display_data"
    },
    {
     "data": {
      "image/png": "[encoded data removed]",
      "text/plain": [
       "<Figure size 1008x288 with 1 Axes>"
      ]
     },
     "metadata": {
      "needs_background": "light"
     },
     "output_type": "display_data"
    }
   ],
   "source": [
    "df_a = df.drop(['score', 'age', 'absences'], axis=1)\n",
    "for col in df_a:\n",
    "    get_boxplot(col)"
   ]
  },
  {
   "cell_type": "markdown",
   "metadata": {},
   "source": [
    "Визуально замечаем, что не многие признаки (health, higher, freetime, failures, studytime, mjob, goout, medu) влияют на оценку"
   ]
  },
  {
   "cell_type": "code",
   "execution_count": 34,
   "metadata": {},
   "outputs": [],
   "source": [
    "# Проверим, есть ли статистическая разница в распределении оценок по номинативным признакам, с помощью теста Стьюдента. \n",
    "# Проверим нулевую гипотезу о том, что распределения оценоки score по различным параметрам неразличимы:\n",
    "\n",
    "def get_stat_dif(column):\n",
    "    cols = df.loc[:, column].value_counts().index[:10]\n",
    "    combinations_all = list(combinations(cols, 2))\n",
    "    for comb in combinations_all:\n",
    "        if ttest_ind(df.loc[df.loc[:, column] == comb[0], 'score'], \n",
    "                        df.loc[df.loc[:, column] == comb[1], 'score']).pvalue \\\n",
    "            <= 0.05/len(combinations_all): # Учли поправку Бонферони\n",
    "            print('Найдены статистически значимые различия для колонки', column)\n",
    "            break"
   ]
  },
  {
   "cell_type": "code",
   "execution_count": 36,
   "metadata": {},
   "outputs": [
    {
     "name": "stdout",
     "output_type": "stream",
     "text": [
      "Найдены статистически значимые различия для колонки mjob\n"
     ]
    }
   ],
   "source": [
    "df_a = df.drop(['score', 'age', 'absences'], axis=1)\n",
    "for col in df_a:\n",
    "    get_stat_dif(col)"
   ]
  },
  {
   "cell_type": "markdown",
   "metadata": {},
   "source": [
    "Как мы видим, серьёзно отличаются только параметр mjob. Но мы для обучения модели оставим и те, которые выделили на грфике box-plot, таким образом вместе с числовыми признаками составим датасет для модели"
   ]
  },
  {
   "cell_type": "code",
   "execution_count": 37,
   "metadata": {},
   "outputs": [
    {
     "data": {
      "text/html": [
       "<div>\n",
       "<style scoped>\n",
       "    .dataframe tbody tr th:only-of-type {\n",
       "        vertical-align: middle;\n",
       "    }\n",
       "\n",
       "    .dataframe tbody tr th {\n",
       "        vertical-align: top;\n",
       "    }\n",
       "\n",
       "    .dataframe thead th {\n",
       "        text-align: right;\n",
       "    }\n",
       "</style>\n",
       "<table border=\"1\" class=\"dataframe\">\n",
       "  <thead>\n",
       "    <tr style=\"text-align: right;\">\n",
       "      <th></th>\n",
       "      <th>health</th>\n",
       "      <th>higher</th>\n",
       "      <th>freetime</th>\n",
       "      <th>failures</th>\n",
       "      <th>studytime</th>\n",
       "      <th>goout</th>\n",
       "      <th>mjob</th>\n",
       "      <th>medu</th>\n",
       "      <th>age</th>\n",
       "      <th>absences</th>\n",
       "    </tr>\n",
       "  </thead>\n",
       "  <tbody>\n",
       "    <tr>\n",
       "      <th>0</th>\n",
       "      <td>3.0</td>\n",
       "      <td>yes</td>\n",
       "      <td>3.0</td>\n",
       "      <td>0.0</td>\n",
       "      <td>2.0</td>\n",
       "      <td>4.0</td>\n",
       "      <td>at_home</td>\n",
       "      <td>4.0</td>\n",
       "      <td>0.47</td>\n",
       "      <td>0.33</td>\n",
       "    </tr>\n",
       "    <tr>\n",
       "      <th>1</th>\n",
       "      <td>3.0</td>\n",
       "      <td>yes</td>\n",
       "      <td>3.0</td>\n",
       "      <td>0.0</td>\n",
       "      <td>2.0</td>\n",
       "      <td>3.0</td>\n",
       "      <td>at_home</td>\n",
       "      <td>1.0</td>\n",
       "      <td>0.32</td>\n",
       "      <td>0.27</td>\n",
       "    </tr>\n",
       "    <tr>\n",
       "      <th>2</th>\n",
       "      <td>3.0</td>\n",
       "      <td>yes</td>\n",
       "      <td>3.0</td>\n",
       "      <td>3.0</td>\n",
       "      <td>2.0</td>\n",
       "      <td>2.0</td>\n",
       "      <td>at_home</td>\n",
       "      <td>1.0</td>\n",
       "      <td>0.00</td>\n",
       "      <td>0.40</td>\n",
       "    </tr>\n",
       "    <tr>\n",
       "      <th>3</th>\n",
       "      <td>5.0</td>\n",
       "      <td>yes</td>\n",
       "      <td>2.0</td>\n",
       "      <td>0.0</td>\n",
       "      <td>3.0</td>\n",
       "      <td>2.0</td>\n",
       "      <td>health</td>\n",
       "      <td>4.0</td>\n",
       "      <td>0.00</td>\n",
       "      <td>0.18</td>\n",
       "    </tr>\n",
       "    <tr>\n",
       "      <th>4</th>\n",
       "      <td>5.0</td>\n",
       "      <td>yes</td>\n",
       "      <td>3.0</td>\n",
       "      <td>0.0</td>\n",
       "      <td>2.0</td>\n",
       "      <td>2.0</td>\n",
       "      <td>other</td>\n",
       "      <td>3.0</td>\n",
       "      <td>0.17</td>\n",
       "      <td>0.27</td>\n",
       "    </tr>\n",
       "  </tbody>\n",
       "</table>\n",
       "</div>"
      ],
      "text/plain": [
       "   health higher  freetime  failures  studytime  goout     mjob  medu   age  \\\n",
       "0     3.0    yes       3.0       0.0        2.0    4.0  at_home   4.0  0.47   \n",
       "1     3.0    yes       3.0       0.0        2.0    3.0  at_home   1.0  0.32   \n",
       "2     3.0    yes       3.0       3.0        2.0    2.0  at_home   1.0  0.00   \n",
       "3     5.0    yes       2.0       0.0        3.0    2.0   health   4.0  0.00   \n",
       "4     5.0    yes       3.0       0.0        2.0    2.0    other   3.0  0.17   \n",
       "\n",
       "   absences  \n",
       "0      0.33  \n",
       "1      0.27  \n",
       "2      0.40  \n",
       "3      0.18  \n",
       "4      0.27  "
      ]
     },
     "execution_count": 37,
     "metadata": {},
     "output_type": "execute_result"
    }
   ],
   "source": [
    "df_m = df.loc[:, ['health', 'higher', 'freetime', 'failures', 'studytime', 'goout', 'mjob', 'medu', 'age', 'absences']]\n",
    "df_m.head()"
   ]
  },
  {
   "cell_type": "markdown",
   "metadata": {},
   "source": [
    "Выводы по результатам EDA для анализа влияния параметров на оценку госэкзамена по математике, следующие:\n",
    "1. Данных много, но имеются пропуски - и больше всего в столбце pstatus (более 10%) - столбец содержит информацию совместного проживания родителей, поэтому можно сказать, что этот столбец, как и многие другие из всего датасета содержат информацию личного и семейного характера, которую при опросе намеренно не указывали.\n",
    "2. В данных не много выбросов, что говорит о достаточно чистых данных.\n",
    "3. Числовых данных мало - обратная корреляция оценки с возрастом, может говорить, что чем старше ученик чем будет хуже оценка, возможно из за того,что со временем знания забываются, снижается способность учиться, или старшие ученики заняты работой. И положительная корреляция оценки с пропусками занятий по математике логична, чем больше ученик пропустил занятий, тем хуже оценка.\n",
    "4. Т- тест отсеял все признаки, кроме признака mjob, но для модели оставили больше признаков.\n",
    "5. Для модели оставили следующие столбцы - health, higher, freetime, failures, studytime, goout, mjob, medu, age, absences"
   ]
  },
  {
   "cell_type": "markdown",
   "metadata": {},
   "source": [
    "### Окончательная подготовка признаков для модели"
   ]
  },
  {
   "cell_type": "markdown",
   "metadata": {},
   "source": [
    "На данном этапе проделаем следующие шаги:\n",
    "1. Создадим еще один числовой признак на основе имеющихся\n",
    "2. Сгруппируем/объединим ответы в некоторых категорийных столбцах по средним значениям\n",
    "3. Заменим категориальные признаки на Gammy-кодирование, с учетом пропусков, которые будут учитывать, как отдельный признак"
   ]
  },
  {
   "cell_type": "code",
   "execution_count": 38,
   "metadata": {},
   "outputs": [
    {
     "data": {
      "text/plain": [
       "count    387.000000\n",
       "mean       3.645891\n",
       "std        1.219218\n",
       "min        0.000000\n",
       "25%        3.710000\n",
       "50%        4.030000\n",
       "75%        4.260000\n",
       "max        4.620000\n",
       "Name: score, dtype: float64"
      ]
     },
     "execution_count": 38,
     "metadata": {},
     "output_type": "execute_result"
    },
    {
     "data": {
      "image/png": "[encoded data removed]",
      "text/plain": [
       "<Figure size 432x288 with 1 Axes>"
      ]
     },
     "metadata": {
      "needs_background": "light"
     },
     "output_type": "display_data"
    }
   ],
   "source": [
    "# Поскольку в нашей перемееной есть большой перепад значений, поэтому попробуем для создания модели логарифмировать целевую переменную score\n",
    "df.score = df.score.apply(lambda w: np.log(w + 1)).round(2)\n",
    "df.score.hist(bins=10)\n",
    "df.score.describe()"
   ]
  },
  {
   "cell_type": "code",
   "execution_count": 39,
   "metadata": {},
   "outputs": [
    {
     "name": "stdout",
     "output_type": "stream",
     "text": [
      "<class 'pandas.core.frame.DataFrame'>\n",
      "RangeIndex: 393 entries, 0 to 392\n",
      "Data columns (total 11 columns):\n",
      " #   Column     Non-Null Count  Dtype  \n",
      "---  ------     --------------  -----  \n",
      " 0   health     378 non-null    float64\n",
      " 1   higher     373 non-null    object \n",
      " 2   freetime   382 non-null    float64\n",
      " 3   failures   371 non-null    float64\n",
      " 4   studytime  386 non-null    float64\n",
      " 5   goout      385 non-null    float64\n",
      " 6   mjob       374 non-null    object \n",
      " 7   medu       390 non-null    float64\n",
      " 8   age        393 non-null    float64\n",
      " 9   absences   393 non-null    float64\n",
      " 10  score      387 non-null    float64\n",
      "dtypes: float64(9), object(2)\n",
      "memory usage: 33.9+ KB\n"
     ]
    }
   ],
   "source": [
    "\n",
    "df_m = df.loc[:, ['health', 'higher', 'freetime', 'failures', 'studytime', 'goout', 'mjob', 'medu', 'age', 'absences', 'score']]\n",
    "df_m.info()"
   ]
  },
  {
   "cell_type": "code",
   "execution_count": 40,
   "metadata": {},
   "outputs": [
    {
     "data": {
      "text/html": [
       "<div>\n",
       "<style scoped>\n",
       "    .dataframe tbody tr th:only-of-type {\n",
       "        vertical-align: middle;\n",
       "    }\n",
       "\n",
       "    .dataframe tbody tr th {\n",
       "        vertical-align: top;\n",
       "    }\n",
       "\n",
       "    .dataframe thead th {\n",
       "        text-align: right;\n",
       "    }\n",
       "</style>\n",
       "<table border=\"1\" class=\"dataframe\">\n",
       "  <thead>\n",
       "    <tr style=\"text-align: right;\">\n",
       "      <th></th>\n",
       "      <th>ag_ab_new1</th>\n",
       "      <th>ag_ab_new2</th>\n",
       "      <th>ag_ab_new3</th>\n",
       "      <th>ag_ab_new4</th>\n",
       "    </tr>\n",
       "  </thead>\n",
       "  <tbody>\n",
       "    <tr>\n",
       "      <th>0</th>\n",
       "      <td>0.33</td>\n",
       "      <td>0.221</td>\n",
       "      <td>0.155</td>\n",
       "      <td>0.109</td>\n",
       "    </tr>\n",
       "    <tr>\n",
       "      <th>1</th>\n",
       "      <td>0.27</td>\n",
       "      <td>0.102</td>\n",
       "      <td>0.086</td>\n",
       "      <td>0.073</td>\n",
       "    </tr>\n",
       "    <tr>\n",
       "      <th>2</th>\n",
       "      <td>0.40</td>\n",
       "      <td>0.000</td>\n",
       "      <td>0.000</td>\n",
       "      <td>0.160</td>\n",
       "    </tr>\n",
       "    <tr>\n",
       "      <th>3</th>\n",
       "      <td>0.18</td>\n",
       "      <td>0.000</td>\n",
       "      <td>0.000</td>\n",
       "      <td>0.032</td>\n",
       "    </tr>\n",
       "    <tr>\n",
       "      <th>4</th>\n",
       "      <td>0.27</td>\n",
       "      <td>0.029</td>\n",
       "      <td>0.046</td>\n",
       "      <td>0.073</td>\n",
       "    </tr>\n",
       "    <tr>\n",
       "      <th>...</th>\n",
       "      <td>...</td>\n",
       "      <td>...</td>\n",
       "      <td>...</td>\n",
       "      <td>...</td>\n",
       "    </tr>\n",
       "    <tr>\n",
       "      <th>388</th>\n",
       "      <td>0.00</td>\n",
       "      <td>0.221</td>\n",
       "      <td>0.000</td>\n",
       "      <td>0.000</td>\n",
       "    </tr>\n",
       "    <tr>\n",
       "      <th>389</th>\n",
       "      <td>0.23</td>\n",
       "      <td>0.102</td>\n",
       "      <td>0.074</td>\n",
       "      <td>0.053</td>\n",
       "    </tr>\n",
       "    <tr>\n",
       "      <th>390</th>\n",
       "      <td>0.23</td>\n",
       "      <td>0.774</td>\n",
       "      <td>0.202</td>\n",
       "      <td>0.053</td>\n",
       "    </tr>\n",
       "    <tr>\n",
       "      <th>391</th>\n",
       "      <td>0.00</td>\n",
       "      <td>0.221</td>\n",
       "      <td>0.000</td>\n",
       "      <td>0.000</td>\n",
       "    </tr>\n",
       "    <tr>\n",
       "      <th>392</th>\n",
       "      <td>0.30</td>\n",
       "      <td>0.384</td>\n",
       "      <td>0.186</td>\n",
       "      <td>0.090</td>\n",
       "    </tr>\n",
       "  </tbody>\n",
       "</table>\n",
       "<p>393 rows × 4 columns</p>\n",
       "</div>"
      ],
      "text/plain": [
       "     ag_ab_new1  ag_ab_new2  ag_ab_new3  ag_ab_new4\n",
       "0          0.33       0.221       0.155       0.109\n",
       "1          0.27       0.102       0.086       0.073\n",
       "2          0.40       0.000       0.000       0.160\n",
       "3          0.18       0.000       0.000       0.032\n",
       "4          0.27       0.029       0.046       0.073\n",
       "..          ...         ...         ...         ...\n",
       "388        0.00       0.221       0.000       0.000\n",
       "389        0.23       0.102       0.074       0.053\n",
       "390        0.23       0.774       0.202       0.053\n",
       "391        0.00       0.221       0.000       0.000\n",
       "392        0.30       0.384       0.186       0.090\n",
       "\n",
       "[393 rows x 4 columns]"
      ]
     },
     "execution_count": 40,
     "metadata": {},
     "output_type": "execute_result"
    }
   ],
   "source": [
    "# создадим новые числовые полиномиальные признаки, возведя имеющиеся числовые признаки age и absences в 2 степень\n",
    "\n",
    "from sklearn.preprocessing import PolynomialFeatures\n",
    "pf = PolynomialFeatures(2)\n",
    "data = pf.fit_transform(df_m[['age', 'absences']])\n",
    "\n",
    "#df_m2 = pd.DataFrame.from_records(x)\n",
    "df_m2 = pd.DataFrame({'ag_ab_new1':data[:,2],'ag_ab_new2':data[:,3], 'ag_ab_new3':data[:,4], 'ag_ab_new4':data[:,5]}).round(3)\n",
    "df_m2"
   ]
  },
  {
   "cell_type": "code",
   "execution_count": 41,
   "metadata": {},
   "outputs": [],
   "source": [
    "# Перегруппируем/объединим данные в некоторых категорийных столбцах по медианным значениям из анализа \n",
    "# визуализации распределения числовых признаков, проделанную с использованием боксплотов "
   ]
  },
  {
   "cell_type": "code",
   "execution_count": 42,
   "metadata": {},
   "outputs": [],
   "source": [
    "# Поскольку столбцы имеют разные варианты значений, то напишем для каждого столбца отдельную функцию:\n",
    "def fyr (col):\n",
    "    if pd.isnull(col) or col == 'nan':\n",
    "        return col\n",
    "    else:\n",
    "        if col == 1:\n",
    "            return col\n",
    "        elif col== 5:\n",
    "            return 3\n",
    "        else:\n",
    "            return 2\n",
    "\n",
    "df_m['health_new'] = df_m['health'].apply(lambda x: fyr(x))"
   ]
  },
  {
   "cell_type": "code",
   "execution_count": 43,
   "metadata": {},
   "outputs": [],
   "source": [
    "def fyr2 (col):\n",
    "    if pd.isnull(col) or col == 'nan':\n",
    "        return col\n",
    "    else:\n",
    "        if col == 1 or col==3:\n",
    "            return 1\n",
    "        #elif col== 4:\n",
    "            #return 3\n",
    "        else:\n",
    "            return 2\n",
    "        \n",
    "df_m['freetime_new'] = df_m['freetime'].apply(lambda x: fyr2(x))"
   ]
  },
  {
   "cell_type": "code",
   "execution_count": 44,
   "metadata": {},
   "outputs": [],
   "source": [
    "def fyr3 (col):\n",
    "    if pd.isnull(col) or col == 'nan':\n",
    "        return col\n",
    "    else:\n",
    "        if col == 0:# or col==1:\n",
    "            return col\n",
    "        else:\n",
    "            return 1\n",
    "\n",
    "df_m['failures_new'] = df_m['failures'].apply(lambda x: fyr3(x))"
   ]
  },
  {
   "cell_type": "code",
   "execution_count": 45,
   "metadata": {},
   "outputs": [],
   "source": [
    "def fyr4 (col):\n",
    "    if pd.isnull(col) or col == 'nan':\n",
    "        return col\n",
    "    else:\n",
    "        if col ==4:\n",
    "            return 3\n",
    "        else:\n",
    "            return col\n",
    "\n",
    "df_m['studytime_new'] = df_m['studytime'].apply(lambda x: fyr4(x))"
   ]
  },
  {
   "cell_type": "code",
   "execution_count": 46,
   "metadata": {},
   "outputs": [],
   "source": [
    "def fyr5 (col):\n",
    "    if pd.isnull(col) or col == 'nan':\n",
    "        return col\n",
    "    else:\n",
    "        if col == 0 or col==1:\n",
    "            return 0\n",
    "        else:\n",
    "            return 1\n",
    "        \n",
    "df_m['medu_new'] = df_m['medu'].apply(lambda x: fyr5(x))"
   ]
  },
  {
   "cell_type": "code",
   "execution_count": 47,
   "metadata": {},
   "outputs": [],
   "source": [
    "def fyr6 (col):\n",
    "    if pd.isnull(col) or col == 'nan':\n",
    "        return col\n",
    "    else:\n",
    "        if col == 'teacher':\n",
    "            return 1\n",
    "        else:\n",
    "            return 0\n",
    "        \n",
    "df_m['mjob_new'] = df_m['mjob'].apply(lambda x: fyr6(x))"
   ]
  },
  {
   "cell_type": "code",
   "execution_count": 48,
   "metadata": {},
   "outputs": [],
   "source": [
    "def fyr7 (col):\n",
    "    if pd.isnull(col) or col == 'nan':\n",
    "        return col\n",
    "    else:\n",
    "        if col == 2 or col==3:\n",
    "            return col\n",
    "        else:\n",
    "            return 1\n",
    "        \n",
    "df_m['goout_new'] = df_m['goout'].apply(lambda x: fyr7(x))"
   ]
  },
  {
   "cell_type": "code",
   "execution_count": 49,
   "metadata": {},
   "outputs": [],
   "source": [
    "# Создадим дополнительный столбец для gammy-кодирования по столбцу score, в котором имеющееся значение равно 1, а пропуск остается Nan \n",
    "def fyr8 (col):\n",
    "    if pd.isnull(col) or col == 'nan':\n",
    "        return col\n",
    "    else:\n",
    "        return 1\n",
    "    \n",
    "df_m['score_new'] = df_m['score'].apply(lambda x: fyr8(x))"
   ]
  },
  {
   "cell_type": "code",
   "execution_count": 50,
   "metadata": {},
   "outputs": [],
   "source": [
    "# После всех преобразований сделаем gammy-кодирование\n",
    "for i in ['health_new', 'higher', 'freetime_new', 'failures_new', 'studytime_new', 'goout_new', 'mjob_new', 'medu_new', 'score_new']:\n",
    "    df_m = pd.get_dummies(df_m, columns=[i], dummy_na=True)"
   ]
  },
  {
   "cell_type": "code",
   "execution_count": 51,
   "metadata": {},
   "outputs": [],
   "source": [
    "# Для модели заменим пропуски на 0 в целевой переменной, и оставим только числовые столбцы\n",
    "df_m['score'] = df_m['score'].fillna(0)\n",
    "df_MOD = df_m.drop(['health', 'freetime', 'failures', 'studytime', 'goout', 'mjob', 'medu'], axis='columns')\n",
    "df_MOD = pd.concat([df_MOD, df_m2], axis=1) # объединяем с новыми числовыми признаками"
   ]
  },
  {
   "cell_type": "code",
   "execution_count": 52,
   "metadata": {},
   "outputs": [
    {
     "name": "stdout",
     "output_type": "stream",
     "text": [
      "<class 'pandas.core.frame.DataFrame'>\n",
      "RangeIndex: 393 entries, 0 to 392\n",
      "Data columns (total 36 columns):\n",
      " #   Column             Non-Null Count  Dtype  \n",
      "---  ------             --------------  -----  \n",
      " 0   age                393 non-null    float64\n",
      " 1   absences           393 non-null    float64\n",
      " 2   score              393 non-null    float64\n",
      " 3   health_new_1.0     393 non-null    uint8  \n",
      " 4   health_new_2.0     393 non-null    uint8  \n",
      " 5   health_new_3.0     393 non-null    uint8  \n",
      " 6   health_new_nan     393 non-null    uint8  \n",
      " 7   higher_no          393 non-null    uint8  \n",
      " 8   higher_yes         393 non-null    uint8  \n",
      " 9   higher_nan         393 non-null    uint8  \n",
      " 10  freetime_new_1.0   393 non-null    uint8  \n",
      " 11  freetime_new_2.0   393 non-null    uint8  \n",
      " 12  freetime_new_nan   393 non-null    uint8  \n",
      " 13  failures_new_0.0   393 non-null    uint8  \n",
      " 14  failures_new_1.0   393 non-null    uint8  \n",
      " 15  failures_new_nan   393 non-null    uint8  \n",
      " 16  studytime_new_1.0  393 non-null    uint8  \n",
      " 17  studytime_new_2.0  393 non-null    uint8  \n",
      " 18  studytime_new_3.0  393 non-null    uint8  \n",
      " 19  studytime_new_nan  393 non-null    uint8  \n",
      " 20  goout_new_1.0      393 non-null    uint8  \n",
      " 21  goout_new_2.0      393 non-null    uint8  \n",
      " 22  goout_new_3.0      393 non-null    uint8  \n",
      " 23  goout_new_nan      393 non-null    uint8  \n",
      " 24  mjob_new_0.0       393 non-null    uint8  \n",
      " 25  mjob_new_1.0       393 non-null    uint8  \n",
      " 26  mjob_new_nan       393 non-null    uint8  \n",
      " 27  medu_new_0.0       393 non-null    uint8  \n",
      " 28  medu_new_1.0       393 non-null    uint8  \n",
      " 29  medu_new_nan       393 non-null    uint8  \n",
      " 30  score_new_1.0      393 non-null    uint8  \n",
      " 31  score_new_nan      393 non-null    uint8  \n",
      " 32  ag_ab_new1         393 non-null    float64\n",
      " 33  ag_ab_new2         393 non-null    float64\n",
      " 34  ag_ab_new3         393 non-null    float64\n",
      " 35  ag_ab_new4         393 non-null    float64\n",
      "dtypes: float64(7), uint8(29)\n",
      "memory usage: 32.7 KB\n"
     ]
    }
   ],
   "source": [
    "df_MOD.info()"
   ]
  },
  {
   "cell_type": "code",
   "execution_count": null,
   "metadata": {},
   "outputs": [],
   "source": []
  }
 ],
 "metadata": {
  "kernelspec": {
   "display_name": "Python 3",
   "language": "python",
   "name": "python3"
  },
  "language_info": {
   "codemirror_mode": {
    "name": "ipython",
    "version": 3
   },
   "file_extension": ".py",
   "mimetype": "text/x-python",
   "name": "python",
   "nbconvert_exporter": "python",
   "pygments_lexer": "ipython3",
   "version": "3.7.4"
  }
 },
 "nbformat": 4,
 "nbformat_minor": 4
}
